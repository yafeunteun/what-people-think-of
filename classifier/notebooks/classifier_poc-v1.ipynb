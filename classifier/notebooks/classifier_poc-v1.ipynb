{
 "cells": [
  {
   "cell_type": "markdown",
   "metadata": {},
   "source": [
    "# Step 0 : Downloading/loading libraries and data "
   ]
  },
  {
   "cell_type": "markdown",
   "metadata": {},
   "source": [
    "## Downloading data"
   ]
  },
  {
   "cell_type": "code",
   "execution_count": 1,
   "metadata": {
    "collapsed": false
   },
   "outputs": [
    {
     "name": "stdout",
     "output_type": "stream",
     "text": [
      "--2016-11-16 09:16:18--  http://172.22.218.81/tweets+labels.tsv.gz\n",
      "Connecting to 172.22.218.81:80... connected.\n",
      "HTTP request sent, awaiting response... 200 OK\n",
      "Length: 79966529 (76M) [application/octet-stream]\n",
      "Saving to: ‘tweets+labels.tsv.gz’\n",
      "\n",
      "100%[======================================>] 79,966,529  2.65MB/s   in 29s    \n",
      "\n",
      "2016-11-16 09:16:47 (2.66 MB/s) - ‘tweets+labels.tsv.gz’ saved [79966529/79966529]\n",
      "\n"
     ]
    }
   ],
   "source": [
    "# Downloading tweets \n",
    "! wget http://172.22.218.81/tweets+labels.tsv.gz"
   ]
  },
  {
   "cell_type": "code",
   "execution_count": 2,
   "metadata": {
    "collapsed": false
   },
   "outputs": [],
   "source": [
    "## Extracting and cleaning tweets \n",
    "! gunzip tweets+labels.tsv.gz \n",
    "! cat tweets+labels.tsv | tr -d \"\\r\" > cleaned_dataset.tsv"
   ]
  },
  {
   "cell_type": "markdown",
   "metadata": {},
   "source": [
    "## Downloading libraries"
   ]
  },
  {
   "cell_type": "code",
   "execution_count": 3,
   "metadata": {
    "collapsed": false
   },
   "outputs": [
    {
     "name": "stdout",
     "output_type": "stream",
     "text": [
      "[nltk_data] Downloading package punkt to /home/ds/nltk_data...\n",
      "[nltk_data]   Unzipping tokenizers/punkt.zip.\n",
      "[nltk_data] Downloading package wordnet to /home/ds/nltk_data...\n",
      "[nltk_data]   Unzipping corpora/wordnet.zip.\n",
      "[nltk_data] Downloading package stopwords to /home/ds/nltk_data...\n",
      "[nltk_data]   Unzipping corpora/stopwords.zip.\n"
     ]
    },
    {
     "data": {
      "text/plain": [
       "True"
      ]
     },
     "execution_count": 3,
     "metadata": {},
     "output_type": "execute_result"
    }
   ],
   "source": [
    "import nltk\n",
    "# Downloading required nltk data \n",
    "nltk.download('punkt') ## data used for the word tokenizer \n",
    "nltk.download(\"wordnet\") ## data used for the lemmatizer\n",
    "nltk.download(\"stopwords\") ## data used for removing stopwords"
   ]
  },
  {
   "cell_type": "markdown",
   "metadata": {},
   "source": [
    "## Loading libraries"
   ]
  },
  {
   "cell_type": "code",
   "execution_count": 4,
   "metadata": {
    "collapsed": true
   },
   "outputs": [],
   "source": [
    "# pandas for data manipulation \n",
    "import pandas as pd\n",
    "# nltk for natural language utilities \n",
    "from nltk import word_tokenize, WordNetLemmatizer\n",
    "# re stands for Regular Expression, this lib gathers tools to work with regex\n",
    "import re\n",
    "# string is useful to access punctuation characters list\n",
    "import string\n",
    "# useful to access english stop words list\n",
    "from nltk.corpus import stopwords"
   ]
  },
  {
   "cell_type": "markdown",
   "metadata": {},
   "source": [
    "# Step 1 : loading data "
   ]
  },
  {
   "cell_type": "code",
   "execution_count": 5,
   "metadata": {
    "collapsed": false
   },
   "outputs": [],
   "source": [
    "data = pd.read_csv(\"cleaned_dataset.tsv\", sep= \"\\t\", header=None, names=[\"id\", \"sentiment\", \"text\"])"
   ]
  },
  {
   "cell_type": "code",
   "execution_count": 6,
   "metadata": {
    "collapsed": false
   },
   "outputs": [],
   "source": [
    "## Sampling 6800 tweets positive / negative / neutral \n",
    "pos = data[data[\"sentiment\"] == \"positive\"].sample(6800)\n",
    "neg = data[data[\"sentiment\"] == \"negative\"].sample(6800)\n",
    "neu = data[data[\"sentiment\"] == \"neutral\"].sample(6800)"
   ]
  },
  {
   "cell_type": "code",
   "execution_count": 7,
   "metadata": {
    "collapsed": false
   },
   "outputs": [],
   "source": [
    "## Combining pos, neg, neu \n",
    "dat = pd.concat([pos, neg, neu]).sample(frac=1)"
   ]
  },
  {
   "cell_type": "markdown",
   "metadata": {
    "collapsed": false
   },
   "source": [
    "# Step 2 : Preprocessing"
   ]
  },
  {
   "cell_type": "markdown",
   "metadata": {},
   "source": [
    "### Defining some custom utilities to process tweets"
   ]
  },
  {
   "cell_type": "code",
   "execution_count": 8,
   "metadata": {
    "collapsed": true
   },
   "outputs": [],
   "source": [
    "# removes links, usernames, twitter special word 'RT' (retweet) and emoticons\n",
    "def process(tweet):\n",
    "    p = re.compile('(http[s]*://[^\\s]+|@[^\\s]*|RT|(\\:\\w+\\:|\\<[\\/\\\\]?3|[\\(\\)\\\\\\D|\\*\\$][\\-\\^]?[\\:\\;\\=]|[\\:\\;\\=B8][\\-\\^]?[3DOPp\\@\\$\\*\\\\\\)\\(\\/\\|])(?=\\s|[\\!\\.\\?]|$))|&\\w*')\n",
    "    return p.sub(\"\", tweet)"
   ]
  },
  {
   "cell_type": "code",
   "execution_count": 9,
   "metadata": {
    "collapsed": true
   },
   "outputs": [],
   "source": [
    "# linking the different forms of the same word (for example, price and prices, is and are) to each other\n",
    "wordnet_lemmatizer = WordNetLemmatizer()\n",
    "lemmatizer = lambda list_of_words : [wordnet_lemmatizer.lemmatize(word) for word in list_of_words]"
   ]
  },
  {
   "cell_type": "code",
   "execution_count": 10,
   "metadata": {
    "collapsed": true
   },
   "outputs": [],
   "source": [
    "# Tokenize i.e. transform a sentence in a list of words\n",
    "tokenizer = lambda x: nltk.word_tokenize(x.decode('utf-8'))"
   ]
  },
  {
   "cell_type": "code",
   "execution_count": 11,
   "metadata": {
    "collapsed": false
   },
   "outputs": [],
   "source": [
    "# removes stop words and converts to lowercase\n",
    "remove_stop_word = lambda list_of_words: [word.lower() for word in list_of_words if word not in stopwords.words(\"english\")]"
   ]
  },
  {
   "cell_type": "code",
   "execution_count": 12,
   "metadata": {
    "collapsed": true
   },
   "outputs": [],
   "source": [
    "remove_punctuation = lambda list_of_words: [word for word in list_of_words if word not in string.punctuation]"
   ]
  },
  {
   "cell_type": "markdown",
   "metadata": {},
   "source": [
    "### Applying text processing"
   ]
  },
  {
   "cell_type": "code",
   "execution_count": 13,
   "metadata": {
    "collapsed": false
   },
   "outputs": [],
   "source": [
    "dat[\"text\"] = dat[\"text\"].apply(process).apply(tokenizer).apply(remove_stop_word).apply(remove_punctuation).apply(lemmatizer)"
   ]
  },
  {
   "cell_type": "markdown",
   "metadata": {
    "collapsed": true
   },
   "source": [
    "# Step 3 : Feature extraction"
   ]
  },
  {
   "cell_type": "markdown",
   "metadata": {
    "collapsed": false
   },
   "source": [
    "bi-gram works better for our problem (A.Pak & P. Paroubek)"
   ]
  },
  {
   "cell_type": "markdown",
   "metadata": {
    "collapsed": false
   },
   "source": [
    "### Constructing bi-grams"
   ]
  },
  {
   "cell_type": "code",
   "execution_count": 15,
   "metadata": {
    "collapsed": true
   },
   "outputs": [],
   "source": [
    "# source : http://locallyoptimal.com/blog/2013/01/20/elegant-n-gram-generation-in-python/\n",
    "def find_ngrams(input_list, n):\n",
    "  return zip(*[input_list[i:] for i in range(n)])"
   ]
  },
  {
   "cell_type": "code",
   "execution_count": 28,
   "metadata": {
    "collapsed": false
   },
   "outputs": [
    {
     "name": "stdout",
     "output_type": "stream",
     "text": [
      "[('There', 'is'), ('is', 'a'), ('a', 'dog'), ('dog', 'out'), ('out', 'there')]\n"
     ]
    }
   ],
   "source": [
    "def test_find_ngrams():\n",
    "    words = [\"There\", \"is\", \"a\", \"dog\", \"out\", \"there\"]\n",
    "    print(find_ngrams(words, 2))\n",
    "    assert(find_ngrams(words, 2)==[('There', 'is'), ('is', 'a'), ('a', 'dog'), ('dog', 'out'), ('out', 'there')])\n",
    "test_find_ngrams()"
   ]
  },
  {
   "cell_type": "code",
   "execution_count": null,
   "metadata": {
    "collapsed": false
   },
   "outputs": [],
   "source": []
  },
  {
   "cell_type": "code",
   "execution_count": 25,
   "metadata": {
    "collapsed": false
   },
   "outputs": [],
   "source": []
  },
  {
   "cell_type": "markdown",
   "metadata": {},
   "source": []
  },
  {
   "cell_type": "code",
   "execution_count": null,
   "metadata": {
    "collapsed": false
   },
   "outputs": [],
   "source": []
  },
  {
   "cell_type": "code",
   "execution_count": null,
   "metadata": {
    "collapsed": true
   },
   "outputs": [],
   "source": []
  },
  {
   "cell_type": "code",
   "execution_count": null,
   "metadata": {
    "collapsed": false
   },
   "outputs": [],
   "source": []
  },
  {
   "cell_type": "code",
   "execution_count": null,
   "metadata": {
    "collapsed": false
   },
   "outputs": [],
   "source": []
  },
  {
   "cell_type": "markdown",
   "metadata": {},
   "source": []
  },
  {
   "cell_type": "code",
   "execution_count": null,
   "metadata": {
    "collapsed": false
   },
   "outputs": [],
   "source": [
    "\n"
   ]
  },
  {
   "cell_type": "code",
   "execution_count": 50,
   "metadata": {
    "collapsed": false
   },
   "outputs": [],
   "source": []
  },
  {
   "cell_type": "code",
   "execution_count": 51,
   "metadata": {
    "collapsed": false
   },
   "outputs": [
    {
     "name": "stdout",
     "output_type": "stream",
     "text": [
      "Hello  World     \n"
     ]
    }
   ],
   "source": []
  },
  {
   "cell_type": "code",
   "execution_count": null,
   "metadata": {
    "collapsed": false
   },
   "outputs": [],
   "source": []
  },
  {
   "cell_type": "code",
   "execution_count": null,
   "metadata": {
    "collapsed": false
   },
   "outputs": [],
   "source": []
  },
  {
   "cell_type": "code",
   "execution_count": null,
   "metadata": {
    "collapsed": false
   },
   "outputs": [],
   "source": []
  },
  {
   "cell_type": "markdown",
   "metadata": {},
   "source": []
  },
  {
   "cell_type": "code",
   "execution_count": null,
   "metadata": {
    "collapsed": false
   },
   "outputs": [],
   "source": []
  },
  {
   "cell_type": "code",
   "execution_count": 186,
   "metadata": {
    "collapsed": true
   },
   "outputs": [],
   "source": [
    "# Feature extraction"
   ]
  },
  {
   "cell_type": "code",
   "execution_count": 187,
   "metadata": {
    "collapsed": true
   },
   "outputs": [],
   "source": []
  },
  {
   "cell_type": "code",
   "execution_count": 189,
   "metadata": {
    "collapsed": false
   },
   "outputs": [],
   "source": []
  },
  {
   "cell_type": "code",
   "execution_count": 14,
   "metadata": {
    "collapsed": false
   },
   "outputs": [
    {
     "data": {
      "text/html": [
       "<div>\n",
       "<table border=\"1\" class=\"dataframe\">\n",
       "  <thead>\n",
       "    <tr style=\"text-align: right;\">\n",
       "      <th></th>\n",
       "      <th>id</th>\n",
       "      <th>sentiment</th>\n",
       "      <th>text</th>\n",
       "    </tr>\n",
       "  </thead>\n",
       "  <tbody>\n",
       "    <tr>\n",
       "      <th>244437</th>\n",
       "      <td>783352688826122240</td>\n",
       "      <td>positive</td>\n",
       "      <td>[trickster, ep1, pretty, promising, wow, i, n'...</td>\n",
       "    </tr>\n",
       "    <tr>\n",
       "      <th>283925</th>\n",
       "      <td>783435526040788992</td>\n",
       "      <td>negative</td>\n",
       "      <td>[fricken, hoo]</td>\n",
       "    </tr>\n",
       "    <tr>\n",
       "      <th>1393047</th>\n",
       "      <td>790564385076940800</td>\n",
       "      <td>positive</td>\n",
       "      <td>[]</td>\n",
       "    </tr>\n",
       "    <tr>\n",
       "      <th>318641</th>\n",
       "      <td>783541537808482304</td>\n",
       "      <td>positive</td>\n",
       "      <td>[h, vape, god, glad, spent, whole, summer, w, ...</td>\n",
       "    </tr>\n",
       "    <tr>\n",
       "      <th>1718342</th>\n",
       "      <td>unavailable</td>\n",
       "      <td>neutral</td>\n",
       "      <td>[be, back, bit, ✌🏻]</td>\n",
       "    </tr>\n",
       "    <tr>\n",
       "      <th>645777</th>\n",
       "      <td>789982378294775808</td>\n",
       "      <td>negative</td>\n",
       "      <td>[aw, i, needed, go]</td>\n",
       "    </tr>\n",
       "    <tr>\n",
       "      <th>1407474</th>\n",
       "      <td>790572397837504512</td>\n",
       "      <td>positive</td>\n",
       "      <td>[hey, you, check, live, piano, cover, heathen,...</td>\n",
       "    </tr>\n",
       "    <tr>\n",
       "      <th>1160505</th>\n",
       "      <td>790378489631248384</td>\n",
       "      <td>negative</td>\n",
       "      <td>[shoulder, cry, come]</td>\n",
       "    </tr>\n",
       "    <tr>\n",
       "      <th>1690844</th>\n",
       "      <td>unavailable</td>\n",
       "      <td>positive</td>\n",
       "      <td>[consider, long, way, 've, come, today]</td>\n",
       "    </tr>\n",
       "    <tr>\n",
       "      <th>1693940</th>\n",
       "      <td>unavailable</td>\n",
       "      <td>neutral</td>\n",
       "      <td>[i, 'm, glad, 're, page]</td>\n",
       "    </tr>\n",
       "    <tr>\n",
       "      <th>1715294</th>\n",
       "      <td>unavailable</td>\n",
       "      <td>neutral</td>\n",
       "      <td>[*points, myself*, *points, everyone*, yeah, ...]</td>\n",
       "    </tr>\n",
       "    <tr>\n",
       "      <th>1691790</th>\n",
       "      <td>unavailable</td>\n",
       "      <td>positive</td>\n",
       "      <td>[yes, indeed, one, area, i, knowledge, help, p...</td>\n",
       "    </tr>\n",
       "    <tr>\n",
       "      <th>1730273</th>\n",
       "      <td>unavailable</td>\n",
       "      <td>neutral</td>\n",
       "      <td>[awesome, creation, loved, u, jst, nailed]</td>\n",
       "    </tr>\n",
       "    <tr>\n",
       "      <th>758346</th>\n",
       "      <td>790081029453123585</td>\n",
       "      <td>negative</td>\n",
       "      <td>[imagine, trayce, thompson]</td>\n",
       "    </tr>\n",
       "    <tr>\n",
       "      <th>1845472</th>\n",
       "      <td>unavailable</td>\n",
       "      <td>neutral</td>\n",
       "      <td>[whata, circus, gringo, politics, become, ...,...</td>\n",
       "    </tr>\n",
       "    <tr>\n",
       "      <th>1721297</th>\n",
       "      <td>unavailable</td>\n",
       "      <td>neutral</td>\n",
       "      <td>[see, like, close, visiting, abortion, clinic,...</td>\n",
       "    </tr>\n",
       "    <tr>\n",
       "      <th>1397255</th>\n",
       "      <td>790566753537437696</td>\n",
       "      <td>positive</td>\n",
       "      <td>[ive, depressed, lately, i, think, best, 'm, g...</td>\n",
       "    </tr>\n",
       "    <tr>\n",
       "      <th>681661</th>\n",
       "      <td>790012171040219136</td>\n",
       "      <td>positive</td>\n",
       "      <td>[slept, great, really, nice, dream]</td>\n",
       "    </tr>\n",
       "    <tr>\n",
       "      <th>1694645</th>\n",
       "      <td>unavailable</td>\n",
       "      <td>neutral</td>\n",
       "      <td>[giving, name, always, spoil]</td>\n",
       "    </tr>\n",
       "    <tr>\n",
       "      <th>651237</th>\n",
       "      <td>789987058953572352</td>\n",
       "      <td>positive</td>\n",
       "      <td>[i, wanted, know, i, appreciate, connection, s...</td>\n",
       "    </tr>\n",
       "    <tr>\n",
       "      <th>992357</th>\n",
       "      <td>790266378578235393</td>\n",
       "      <td>positive</td>\n",
       "      <td>[hey, kai, komatsu, thanks, follow, do, n't, h...</td>\n",
       "    </tr>\n",
       "    <tr>\n",
       "      <th>1718932</th>\n",
       "      <td>unavailable</td>\n",
       "      <td>neutral</td>\n",
       "      <td>[niece, watching, love]</td>\n",
       "    </tr>\n",
       "    <tr>\n",
       "      <th>657192</th>\n",
       "      <td>789992030923468800</td>\n",
       "      <td>negative</td>\n",
       "      <td>[ay, amix]</td>\n",
       "    </tr>\n",
       "    <tr>\n",
       "      <th>305340</th>\n",
       "      <td>783502772285079553</td>\n",
       "      <td>negative</td>\n",
       "      <td>[puppy, need, rest]</td>\n",
       "    </tr>\n",
       "    <tr>\n",
       "      <th>1706804</th>\n",
       "      <td>unavailable</td>\n",
       "      <td>neutral</td>\n",
       "      <td>[bank, england, cut, interest, rate, historic,...</td>\n",
       "    </tr>\n",
       "    <tr>\n",
       "      <th>421512</th>\n",
       "      <td>783735571243933696</td>\n",
       "      <td>negative</td>\n",
       "      <td>[i, server, almost, three, year, being, guy, s...</td>\n",
       "    </tr>\n",
       "    <tr>\n",
       "      <th>1561336</th>\n",
       "      <td>unavailable</td>\n",
       "      <td>negative</td>\n",
       "      <td>[would, love, say, yes, i, beyond, broke, i, u...</td>\n",
       "    </tr>\n",
       "    <tr>\n",
       "      <th>91749</th>\n",
       "      <td>782783224233721856</td>\n",
       "      <td>positive</td>\n",
       "      <td>[ca, n't, wait, bar]</td>\n",
       "    </tr>\n",
       "    <tr>\n",
       "      <th>134095</th>\n",
       "      <td>782863713439211520</td>\n",
       "      <td>negative</td>\n",
       "      <td>[nice, i, still, need, kill, end, bos, normal]</td>\n",
       "    </tr>\n",
       "    <tr>\n",
       "      <th>855385</th>\n",
       "      <td>790178530671915010</td>\n",
       "      <td>positive</td>\n",
       "      <td>[hello, steph.steph, soblue1902]</td>\n",
       "    </tr>\n",
       "    <tr>\n",
       "      <th>...</th>\n",
       "      <td>...</td>\n",
       "      <td>...</td>\n",
       "      <td>...</td>\n",
       "    </tr>\n",
       "    <tr>\n",
       "      <th>917395</th>\n",
       "      <td>790220827568418817</td>\n",
       "      <td>negative</td>\n",
       "      <td>[sad, i, 'll, miss, show, tonight, 1st, co, sh...</td>\n",
       "    </tr>\n",
       "    <tr>\n",
       "      <th>1714756</th>\n",
       "      <td>unavailable</td>\n",
       "      <td>neutral</td>\n",
       "      <td>[he, would, win, would, quiet, and, stick, iss...</td>\n",
       "    </tr>\n",
       "    <tr>\n",
       "      <th>1727095</th>\n",
       "      <td>unavailable</td>\n",
       "      <td>neutral</td>\n",
       "      <td>[he, say, whatever, want, 's, he, know, loyal,...</td>\n",
       "    </tr>\n",
       "    <tr>\n",
       "      <th>764805</th>\n",
       "      <td>790088278422659072</td>\n",
       "      <td>negative</td>\n",
       "      <td>[cute]</td>\n",
       "    </tr>\n",
       "    <tr>\n",
       "      <th>1117812</th>\n",
       "      <td>790351065384423424</td>\n",
       "      <td>positive</td>\n",
       "      <td>[matty, n, got, everyone, kinky, mood, well, f...</td>\n",
       "    </tr>\n",
       "    <tr>\n",
       "      <th>1721182</th>\n",
       "      <td>unavailable</td>\n",
       "      <td>neutral</td>\n",
       "      <td>[same, 🙄😭]</td>\n",
       "    </tr>\n",
       "    <tr>\n",
       "      <th>932692</th>\n",
       "      <td>790230061542699008</td>\n",
       "      <td>negative</td>\n",
       "      <td>[i, 'm, disappointed]</td>\n",
       "    </tr>\n",
       "    <tr>\n",
       "      <th>1697156</th>\n",
       "      <td>unavailable</td>\n",
       "      <td>neutral</td>\n",
       "      <td>[bus, city, dweller]</td>\n",
       "    </tr>\n",
       "    <tr>\n",
       "      <th>471339</th>\n",
       "      <td>789862277260259329</td>\n",
       "      <td>positive</td>\n",
       "      <td>[thanks, retweets, week, much, appreciated, 🔹🆓...</td>\n",
       "    </tr>\n",
       "    <tr>\n",
       "      <th>1711403</th>\n",
       "      <td>unavailable</td>\n",
       "      <td>neutral</td>\n",
       "      <td>[take, good, care, 😊]</td>\n",
       "    </tr>\n",
       "    <tr>\n",
       "      <th>1123564</th>\n",
       "      <td>790354886617473028</td>\n",
       "      <td>negative</td>\n",
       "      <td>[good, morning]</td>\n",
       "    </tr>\n",
       "    <tr>\n",
       "      <th>353267</th>\n",
       "      <td>783599319718866944</td>\n",
       "      <td>negative</td>\n",
       "      <td>[wheein, look, tired]</td>\n",
       "    </tr>\n",
       "    <tr>\n",
       "      <th>355841</th>\n",
       "      <td>783603309110235136</td>\n",
       "      <td>positive</td>\n",
       "      <td>[i, must, busy, he, say, i, 'm, getting, one, ...</td>\n",
       "    </tr>\n",
       "    <tr>\n",
       "      <th>1525438</th>\n",
       "      <td>790636625843851265</td>\n",
       "      <td>positive</td>\n",
       "      <td>[the, fact, radio, station, dedicated, musical...</td>\n",
       "    </tr>\n",
       "    <tr>\n",
       "      <th>1724178</th>\n",
       "      <td>unavailable</td>\n",
       "      <td>positive</td>\n",
       "      <td>[thanks, recent, follow, much, appreciated, wa...</td>\n",
       "    </tr>\n",
       "    <tr>\n",
       "      <th>1715799</th>\n",
       "      <td>unavailable</td>\n",
       "      <td>neutral</td>\n",
       "      <td>[let, set]</td>\n",
       "    </tr>\n",
       "    <tr>\n",
       "      <th>442595</th>\n",
       "      <td>789844689054609409</td>\n",
       "      <td>negative</td>\n",
       "      <td>[wonder, would, tita, reaction, dom, rea, 's, ...</td>\n",
       "    </tr>\n",
       "    <tr>\n",
       "      <th>721201</th>\n",
       "      <td>790044129531092992</td>\n",
       "      <td>positive</td>\n",
       "      <td>[yup, exactly]</td>\n",
       "    </tr>\n",
       "    <tr>\n",
       "      <th>295491</th>\n",
       "      <td>783465260598628352</td>\n",
       "      <td>negative</td>\n",
       "      <td>[it, 's, national, taco, day, i, n't, one, taco]</td>\n",
       "    </tr>\n",
       "    <tr>\n",
       "      <th>1004249</th>\n",
       "      <td>790273149891936257</td>\n",
       "      <td>negative</td>\n",
       "      <td>[video, available, watch, uk]</td>\n",
       "    </tr>\n",
       "    <tr>\n",
       "      <th>414186</th>\n",
       "      <td>783719993548673029</td>\n",
       "      <td>negative</td>\n",
       "      <td>[i, wan, na, go, back, place, ..., wan, na, he...</td>\n",
       "    </tr>\n",
       "    <tr>\n",
       "      <th>836722</th>\n",
       "      <td>790162493310115840</td>\n",
       "      <td>negative</td>\n",
       "      <td>[3, back, southampton, form, winger, i, sense,...</td>\n",
       "    </tr>\n",
       "    <tr>\n",
       "      <th>773034</th>\n",
       "      <td>790097465106010112</td>\n",
       "      <td>positive</td>\n",
       "      <td>[when, 're, ohverr, doin, stuff, likeiss, wish...</td>\n",
       "    </tr>\n",
       "    <tr>\n",
       "      <th>89482</th>\n",
       "      <td>782777494902546432</td>\n",
       "      <td>negative</td>\n",
       "      <td>[think, lost, noonie]</td>\n",
       "    </tr>\n",
       "    <tr>\n",
       "      <th>1145893</th>\n",
       "      <td>790369326259802112</td>\n",
       "      <td>negative</td>\n",
       "      <td>[kevin]</td>\n",
       "    </tr>\n",
       "    <tr>\n",
       "      <th>460730</th>\n",
       "      <td>789856161050857475</td>\n",
       "      <td>positive</td>\n",
       "      <td>[today, 's, day, i, take, sister, 12, friend, ...</td>\n",
       "    </tr>\n",
       "    <tr>\n",
       "      <th>1695319</th>\n",
       "      <td>unavailable</td>\n",
       "      <td>neutral</td>\n",
       "      <td>[i, wan, na, hug, them, so, bad]</td>\n",
       "    </tr>\n",
       "    <tr>\n",
       "      <th>1548737</th>\n",
       "      <td>unavailable</td>\n",
       "      <td>positive</td>\n",
       "      <td>['re, welcome, sweetie, i, 'm, always, happy, ...</td>\n",
       "    </tr>\n",
       "    <tr>\n",
       "      <th>1704762</th>\n",
       "      <td>unavailable</td>\n",
       "      <td>neutral</td>\n",
       "      <td>[trump, real, man, hot, woman, love, republic,...</td>\n",
       "    </tr>\n",
       "    <tr>\n",
       "      <th>1730377</th>\n",
       "      <td>unavailable</td>\n",
       "      <td>neutral</td>\n",
       "      <td>[the, best]</td>\n",
       "    </tr>\n",
       "  </tbody>\n",
       "</table>\n",
       "<p>20400 rows × 3 columns</p>\n",
       "</div>"
      ],
      "text/plain": [
       "                         id sentiment  \\\n",
       "244437   783352688826122240  positive   \n",
       "283925   783435526040788992  negative   \n",
       "1393047  790564385076940800  positive   \n",
       "318641   783541537808482304  positive   \n",
       "1718342         unavailable   neutral   \n",
       "645777   789982378294775808  negative   \n",
       "1407474  790572397837504512  positive   \n",
       "1160505  790378489631248384  negative   \n",
       "1690844         unavailable  positive   \n",
       "1693940         unavailable   neutral   \n",
       "1715294         unavailable   neutral   \n",
       "1691790         unavailable  positive   \n",
       "1730273         unavailable   neutral   \n",
       "758346   790081029453123585  negative   \n",
       "1845472         unavailable   neutral   \n",
       "1721297         unavailable   neutral   \n",
       "1397255  790566753537437696  positive   \n",
       "681661   790012171040219136  positive   \n",
       "1694645         unavailable   neutral   \n",
       "651237   789987058953572352  positive   \n",
       "992357   790266378578235393  positive   \n",
       "1718932         unavailable   neutral   \n",
       "657192   789992030923468800  negative   \n",
       "305340   783502772285079553  negative   \n",
       "1706804         unavailable   neutral   \n",
       "421512   783735571243933696  negative   \n",
       "1561336         unavailable  negative   \n",
       "91749    782783224233721856  positive   \n",
       "134095   782863713439211520  negative   \n",
       "855385   790178530671915010  positive   \n",
       "...                     ...       ...   \n",
       "917395   790220827568418817  negative   \n",
       "1714756         unavailable   neutral   \n",
       "1727095         unavailable   neutral   \n",
       "764805   790088278422659072  negative   \n",
       "1117812  790351065384423424  positive   \n",
       "1721182         unavailable   neutral   \n",
       "932692   790230061542699008  negative   \n",
       "1697156         unavailable   neutral   \n",
       "471339   789862277260259329  positive   \n",
       "1711403         unavailable   neutral   \n",
       "1123564  790354886617473028  negative   \n",
       "353267   783599319718866944  negative   \n",
       "355841   783603309110235136  positive   \n",
       "1525438  790636625843851265  positive   \n",
       "1724178         unavailable  positive   \n",
       "1715799         unavailable   neutral   \n",
       "442595   789844689054609409  negative   \n",
       "721201   790044129531092992  positive   \n",
       "295491   783465260598628352  negative   \n",
       "1004249  790273149891936257  negative   \n",
       "414186   783719993548673029  negative   \n",
       "836722   790162493310115840  negative   \n",
       "773034   790097465106010112  positive   \n",
       "89482    782777494902546432  negative   \n",
       "1145893  790369326259802112  negative   \n",
       "460730   789856161050857475  positive   \n",
       "1695319         unavailable   neutral   \n",
       "1548737         unavailable  positive   \n",
       "1704762         unavailable   neutral   \n",
       "1730377         unavailable   neutral   \n",
       "\n",
       "                                                      text  \n",
       "244437   [trickster, ep1, pretty, promising, wow, i, n'...  \n",
       "283925                                      [fricken, hoo]  \n",
       "1393047                                                 []  \n",
       "318641   [h, vape, god, glad, spent, whole, summer, w, ...  \n",
       "1718342                                [be, back, bit, ✌🏻]  \n",
       "645777                                 [aw, i, needed, go]  \n",
       "1407474  [hey, you, check, live, piano, cover, heathen,...  \n",
       "1160505                              [shoulder, cry, come]  \n",
       "1690844            [consider, long, way, 've, come, today]  \n",
       "1693940                           [i, 'm, glad, 're, page]  \n",
       "1715294  [*points, myself*, *points, everyone*, yeah, ...]  \n",
       "1691790  [yes, indeed, one, area, i, knowledge, help, p...  \n",
       "1730273         [awesome, creation, loved, u, jst, nailed]  \n",
       "758346                         [imagine, trayce, thompson]  \n",
       "1845472  [whata, circus, gringo, politics, become, ...,...  \n",
       "1721297  [see, like, close, visiting, abortion, clinic,...  \n",
       "1397255  [ive, depressed, lately, i, think, best, 'm, g...  \n",
       "681661                 [slept, great, really, nice, dream]  \n",
       "1694645                      [giving, name, always, spoil]  \n",
       "651237   [i, wanted, know, i, appreciate, connection, s...  \n",
       "992357   [hey, kai, komatsu, thanks, follow, do, n't, h...  \n",
       "1718932                            [niece, watching, love]  \n",
       "657192                                          [ay, amix]  \n",
       "305340                                 [puppy, need, rest]  \n",
       "1706804  [bank, england, cut, interest, rate, historic,...  \n",
       "421512   [i, server, almost, three, year, being, guy, s...  \n",
       "1561336  [would, love, say, yes, i, beyond, broke, i, u...  \n",
       "91749                                 [ca, n't, wait, bar]  \n",
       "134095      [nice, i, still, need, kill, end, bos, normal]  \n",
       "855385                    [hello, steph.steph, soblue1902]  \n",
       "...                                                    ...  \n",
       "917395   [sad, i, 'll, miss, show, tonight, 1st, co, sh...  \n",
       "1714756  [he, would, win, would, quiet, and, stick, iss...  \n",
       "1727095  [he, say, whatever, want, 's, he, know, loyal,...  \n",
       "764805                                              [cute]  \n",
       "1117812  [matty, n, got, everyone, kinky, mood, well, f...  \n",
       "1721182                                         [same, 🙄😭]  \n",
       "932692                               [i, 'm, disappointed]  \n",
       "1697156                               [bus, city, dweller]  \n",
       "471339   [thanks, retweets, week, much, appreciated, 🔹🆓...  \n",
       "1711403                              [take, good, care, 😊]  \n",
       "1123564                                    [good, morning]  \n",
       "353267                               [wheein, look, tired]  \n",
       "355841   [i, must, busy, he, say, i, 'm, getting, one, ...  \n",
       "1525438  [the, fact, radio, station, dedicated, musical...  \n",
       "1724178  [thanks, recent, follow, much, appreciated, wa...  \n",
       "1715799                                         [let, set]  \n",
       "442595   [wonder, would, tita, reaction, dom, rea, 's, ...  \n",
       "721201                                      [yup, exactly]  \n",
       "295491    [it, 's, national, taco, day, i, n't, one, taco]  \n",
       "1004249                      [video, available, watch, uk]  \n",
       "414186   [i, wan, na, go, back, place, ..., wan, na, he...  \n",
       "836722   [3, back, southampton, form, winger, i, sense,...  \n",
       "773034   [when, 're, ohverr, doin, stuff, likeiss, wish...  \n",
       "89482                                [think, lost, noonie]  \n",
       "1145893                                            [kevin]  \n",
       "460730   [today, 's, day, i, take, sister, 12, friend, ...  \n",
       "1695319                   [i, wan, na, hug, them, so, bad]  \n",
       "1548737  ['re, welcome, sweetie, i, 'm, always, happy, ...  \n",
       "1704762  [trump, real, man, hot, woman, love, republic,...  \n",
       "1730377                                        [the, best]  \n",
       "\n",
       "[20400 rows x 3 columns]"
      ]
     },
     "execution_count": 14,
     "metadata": {},
     "output_type": "execute_result"
    }
   ],
   "source": [
    "dat"
   ]
  },
  {
   "cell_type": "code",
   "execution_count": 196,
   "metadata": {
    "collapsed": true
   },
   "outputs": [],
   "source": []
  },
  {
   "cell_type": "code",
   "execution_count": null,
   "metadata": {
    "collapsed": false
   },
   "outputs": [],
   "source": []
  },
  {
   "cell_type": "code",
   "execution_count": null,
   "metadata": {
    "collapsed": true
   },
   "outputs": [],
   "source": []
  },
  {
   "cell_type": "code",
   "execution_count": 201,
   "metadata": {
    "collapsed": false
   },
   "outputs": [],
   "source": [
    "from collections import Counter"
   ]
  },
  {
   "cell_type": "code",
   "execution_count": 202,
   "metadata": {
    "collapsed": true
   },
   "outputs": [],
   "source": [
    "def get_features(text, setting):\n",
    "    if setting=='bow':\n",
    "        return {word: count for word, count in Counter(preprocess(text)).items() if not word in stoplist}\n",
    "    else:\n",
    "        return {word: True for word in preprocess(text) if not word in stoplist}"
   ]
  },
  {
   "cell_type": "code",
   "execution_count": null,
   "metadata": {
    "collapsed": true
   },
   "outputs": [],
   "source": [
    "all_features = [(get_features(email, 'bow'), label) for (email, label) in all_emails]"
   ]
  }
 ],
 "metadata": {
  "kernelspec": {
   "display_name": "Python 2",
   "language": "python",
   "name": "python2"
  },
  "language_info": {
   "codemirror_mode": {
    "name": "ipython",
    "version": 2
   },
   "file_extension": ".py",
   "mimetype": "text/x-python",
   "name": "python",
   "nbconvert_exporter": "python",
   "pygments_lexer": "ipython2",
   "version": "2.7.6"
  }
 },
 "nbformat": 4,
 "nbformat_minor": 0
}
