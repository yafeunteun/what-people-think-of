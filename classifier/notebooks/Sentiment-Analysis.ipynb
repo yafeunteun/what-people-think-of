{
 "cells": [
  {
   "cell_type": "markdown",
   "metadata": {
    "collapsed": false
   },
   "source": [
    "### Import relevant libraries"
   ]
  },
  {
   "cell_type": "code",
   "execution_count": 237,
   "metadata": {
    "collapsed": false
   },
   "outputs": [],
   "source": [
    "import numpy as np\n",
    "from sklearn.naive_bayes import MultinomialNB\n",
    "from nltk.tokenize import word_tokenize\n",
    "from nltk import pos_tag\n",
    "from nltk import download\n",
    "import string\n",
    "import re\n",
    "import json\n",
    "import itertools\n",
    "import collections\n",
    "import matplotlib.pyplot as plt\n",
    "%matplotlib inline "
   ]
  },
  {
   "cell_type": "markdown",
   "metadata": {},
   "source": [
    "### Install some required packages"
   ]
  },
  {
   "cell_type": "code",
   "execution_count": 289,
   "metadata": {
    "collapsed": false
   },
   "outputs": [
    {
     "name": "stdout",
     "output_type": "stream",
     "text": [
      "Requirement already satisfied (use --upgrade to upgrade): oauth in /usr/local/lib/python2.7/dist-packages\r\n",
      "Requirement already satisfied (use --upgrade to upgrade): oauth2 in /usr/local/lib/python2.7/dist-packages\r\n",
      "Cleaning up...\r\n"
     ]
    }
   ],
   "source": [
    "!sudo pip install oauth oauth2"
   ]
  },
  {
   "cell_type": "markdown",
   "metadata": {},
   "source": [
    "### Define some utilities"
   ]
  },
  {
   "cell_type": "code",
   "execution_count": 30,
   "metadata": {
    "collapsed": false
   },
   "outputs": [],
   "source": [
    "def process(tweet):\n",
    "    # removes links, usernames, twitter special word 'RT' (retweet) and emoticons\n",
    "    p = re.compile('(http[s]*://[^\\s]+|@[^\\s]*|RT|(\\:\\w+\\:|\\<[\\/\\\\]?3|[\\(\\)\\\\\\D|\\*\\$][\\-\\^]?[\\:\\;\\=]|[\\:\\;\\=B8][\\-\\^]?[3DOPp\\@\\$\\*\\\\\\)\\(\\/\\|])(?=\\s|[\\!\\.\\?]|$))|&\\w*')\n",
    "    return p.sub(\"\", tweet)"
   ]
  },
  {
   "cell_type": "code",
   "execution_count": 9,
   "metadata": {
    "collapsed": true
   },
   "outputs": [],
   "source": [
    "def sanitize(text):\n",
    "    # removes punctuation character\n",
    "    return text.translate(None, string.punctuation)"
   ]
  },
  {
   "cell_type": "code",
   "execution_count": 10,
   "metadata": {
    "collapsed": true
   },
   "outputs": [],
   "source": [
    "def removeStopWords(tokens):\n",
    "    return [token for token in tokens if  token not in [\"an\", \"a\", \"the\"]]"
   ]
  },
  {
   "cell_type": "code",
   "execution_count": 11,
   "metadata": {
    "collapsed": true
   },
   "outputs": [],
   "source": [
    "def find_ngrams(input_list, n=2): \n",
    "  return zip(*[input_list[i:] for i in range(n)])"
   ]
  },
  {
   "cell_type": "code",
   "execution_count": 265,
   "metadata": {
    "collapsed": true
   },
   "outputs": [],
   "source": [
    "def chain2(nested_list):\n",
    "    for l in neg_clean:\n",
    "        for tup in l:\n",
    "            yield(tup)"
   ]
  },
  {
   "cell_type": "code",
   "execution_count": 266,
   "metadata": {
    "collapsed": true
   },
   "outputs": [],
   "source": [
    "def autolabel(rects):\n",
    "    # attach some text labels\n",
    "    for rect in rects:\n",
    "        height = rect.get_height()\n",
    "        ax.text(rect.get_x() + rect.get_width()/2., 1.05*height,\n",
    "                '%d' % int(height),\n",
    "                ha='center', va='bottom')"
   ]
  },
  {
   "cell_type": "code",
   "execution_count": 288,
   "metadata": {
    "collapsed": true
   },
   "outputs": [],
   "source": [
    "def plotTagDistrubition(pos_dist):\n",
    "    N = len(pos_dist)\n",
    "    neg_counts = pos_dist.values()\n",
    "\n",
    "    ind = np.arange(N)  # the x locations for the groups\n",
    "    width = 0.35       # the width of the bars\n",
    "\n",
    "    fig, ax = plt.subplots()\n",
    "    rects1 = ax.bar(ind, neg_counts, width, color='r')\n",
    "    fig.set_size_inches(25,8)\n",
    "\n",
    "    # add some text for labels, title and axes ticks\n",
    "    ax.set_ylabel('Count')\n",
    "    ax.set_title(r'P^T values')\n",
    "    ax.set_xticks(ind + width)\n",
    "    ax.set_xticklabels(pos_dist.keys())\n",
    "\n",
    "    #ax.legend((rects1[0], rects2[0]), ('Men', 'Women'))\n",
    "    ax.legend((rects1[0], ('Negative')))\n",
    "\n",
    "    autolabel(rects1)\n",
    "    #autolabel(rects2)\n",
    "\n",
    "    plt.show()"
   ]
  },
  {
   "cell_type": "code",
   "execution_count": 300,
   "metadata": {
    "collapsed": true
   },
   "outputs": [],
   "source": [
    "def getTokenizedTweets(rawTweets):\n",
    "    clean = [removeStopWords(word_tokenize(process(tweet[\"text\"]))) for tweet in json.loads(rawTweets[0])[\"statuses\"]]\n",
    "    return clean"
   ]
  },
  {
   "cell_type": "code",
   "execution_count": null,
   "metadata": {
    "collapsed": true
   },
   "outputs": [],
   "source": [
    "def getPosTweetsFromTokenized(tokenizedTweets):\n",
    "    return [pos_tag(tweet) for tweet in getTokenizedTweets(neu_tweets)]"
   ]
  },
  {
   "cell_type": "code",
   "execution_count": 12,
   "metadata": {
    "collapsed": true
   },
   "outputs": [],
   "source": [
    "def nl():\n",
    "    print(\"\\n\")"
   ]
  },
  {
   "cell_type": "markdown",
   "metadata": {},
   "source": [
    "### Download sentence tokenizer"
   ]
  },
  {
   "cell_type": "code",
   "execution_count": 41,
   "metadata": {
    "collapsed": false
   },
   "outputs": [
    {
     "name": "stdout",
     "output_type": "stream",
     "text": [
      "[nltk_data] Downloading package averaged_perceptron_tagger to\n",
      "[nltk_data]     /home/ds/nltk_data...\n",
      "[nltk_data]   Package averaged_perceptron_tagger is already up-to-\n",
      "[nltk_data]       date!\n",
      "[nltk_data] Downloading package punkt to /home/ds/nltk_data...\n",
      "[nltk_data]   Package punkt is already up-to-date!\n"
     ]
    },
    {
     "data": {
      "text/plain": [
       "True"
      ]
     },
     "execution_count": 41,
     "metadata": {},
     "output_type": "execute_result"
    }
   ],
   "source": [
    "download(\"averaged_perceptron_tagger\")\n",
    "download(\"punkt\")"
   ]
  },
  {
   "cell_type": "markdown",
   "metadata": {},
   "source": [
    "# Scraping some data"
   ]
  },
  {
   "cell_type": "markdown",
   "metadata": {},
   "source": [
    "### Fetching some tweets "
   ]
  },
  {
   "cell_type": "code",
   "execution_count": 293,
   "metadata": {
    "collapsed": false
   },
   "outputs": [],
   "source": [
    "neg_tweets = !python ./twitterstream.py \"https://api.twitter.com/1.1/search/tweets.json?q=%3A%28&lang=en&count=100\""
   ]
  },
  {
   "cell_type": "code",
   "execution_count": 307,
   "metadata": {
    "collapsed": false
   },
   "outputs": [],
   "source": [
    "max_id = json.loads(neg_tweets[0])[\"search_metadata\"][\"max_id\"]"
   ]
  },
  {
   "cell_type": "code",
   "execution_count": 308,
   "metadata": {
    "collapsed": true
   },
   "outputs": [],
   "source": [
    "negs = []"
   ]
  },
  {
   "cell_type": "code",
   "execution_count": 309,
   "metadata": {
    "collapsed": true
   },
   "outputs": [],
   "source": [
    "neg_tweets = !python ./twitterstream.py \"https://api.twitter.com/1.1/search/tweets.json?q=%3A%28&lang=en&count=100\"\n",
    "negs = negs + getTokenizedTweets(neg_tweets)\n",
    "max_id = json.loads(neg_tweets[0])[\"search_metadata\"][\"max_id\"]\n",
    "for i in range(2):\n",
    "    neg_tweets = !python ./twitterstream.py \"https://api.twitter.com/1.1/search/tweets.json?q=%3A%28&lang=en&count=100&max_id=\"+max_id\n",
    "    negs = negs + getTokenizedTweets(neg_tweets)\n",
    "    max_id = json.loads(neg_tweets[0])[\"search_metadata\"][\"max_id\"]"
   ]
  },
  {
   "cell_type": "code",
   "execution_count": 315,
   "metadata": {
    "collapsed": false
   },
   "outputs": [
    {
     "name": "stdout",
     "output_type": "stream",
     "text": [
      "[u'I', u\"'m\", u'gon', u'na', u'miss', u'this', u'hot', u'summer', u'we', u'had', u'.']\n",
      "[u'sorry', u'crainer', u'i', u'didnt', u'mean', u'what', u'i', u'said', u'!', u'friends', u'?', u'...']\n",
      "[u'i', u'hope', u'u', u'had', u'good', u'sleep', u'i', u'love', u'u']\n",
      "[u'garing', u'bege', u':', u'(', u'(']\n",
      "[u'Can', u'not', u'baaaaalive', u'ewe', u'stopped', u'doing', u'rock', u'cakes', u'and', u'scones', u'What', u'next', u'sausage', u'rolls', u'and', u'fresh', u'cream', u'cakes', u'lol', u'xx']\n",
      "[u'JUST', u'WHEN', u'I', u'WENT', u'ONLINE', u'?', u'\\U0001f624', u'lol', u'jk', u'bb', u'I', u'hope', u'you', u\"'re\", u'ok']\n",
      "[u'taeyong', u',', u',', u',', u'pls', u'eat', u'more', u'babe', u':', u'(', u'(', u'(', u'(', u'(', u'you', u\"'re\", u'so', u'thin', u'I', u'get', u'so', u'worried']\n",
      "[u'it', u'depends', u'uno', u'.', u'maybe', u'hes', u'broke', u'atm', u'i', u'wouldnt', u'end', u'it', u'but', u'certainly', u'not', u'having', u'that']\n",
      "[u'THREE', u'HUNDRED', u'AND', u'SIXTY', u'PELLETS']\n",
      "[u'I', u'was', u'bit', u'too', u'emosh', u'to', u'notice', u'much', u'by', u'that', u'point', u':', u'(']\n",
      "[u'The', u'last', u'thing', u'I', u'want', u'to', u'do', u'today', u'is', u'work']\n",
      "[u'The', u'fact', u'that', u'it', u'actually', u'came', u'true']\n",
      "[u'daming', u'test', u'bukas', u':', u'(', u'(', u'CandysCrush', u'FinaleThisSunday']\n",
      "[u'I', u'LOVE', u'UNIT', u'RED', u'THEY', u'DO', u\"N'T\", u'DESERVE', u'ANYTHING', u'BAD', u'THEY', u'DESERVE', u'EVERYTHING', u'GOOD', u'IN', u'THIS', u'WORLD', u':', u'(', u'(']\n",
      "[u'.i', u\"'m\", u'really', u'spoil', u\"'d\", u'.', u'like', u'i', u'needa', u'get', u'out', u'of', u'that', u'habbit', u',', u'cause', u'i', u'b', u'acting', u'like', u'baby', u',', u'when', u'stuff', u'does', u\"n't\", u'go', u'my', u'way', u'.']\n",
      "[u'theyre', u'so', u'many', u'to', u'mention', u'sir', u'haha', u'mithyu']\n",
      "[u'MAYO', u'HOSPITAL', u'Lahore', u'Biggest', u'Hospital', u',', u'Biggest', u'Province', u',', u'Biggest', u'Budget', u'.', u'Hospitals', u'across', u'country', u'r', u'like', u'these']\n",
      "[u'i', u'woke', u'up', u'to', u'delete', u'my', u'snap', u'nd', u'now', u'i', u'cant', u'go', u'bac', u'to', u'sleep']\n",
      "[u'so', u'tiredddd', u'of', u'doing', u'school', u'stuffs']\n",
      "[u'I', u'HV', u'TO', u'STUDY', u'OMG', u'BUT', u'I', u'CA', u\"N'T\", u'...', u'.i', u\"'m\", u'not', u'motivated', u':', u'(', u'(', u'(', u'(']\n",
      "[u'too', u'bad', u'ur', u'not', u'me', u':', u'(']\n",
      "[u'I', u\"'m\", u'really', u'behind', u'everyone', u'else', u'in', u'Pok\\xe9Go', u'b/c', u'I', u'did', u\"n't\", u'have', u'data', u'for', u'so', u'long', u'I', u\"'m\", u'only', u'like', u'level', u'7', u'still']\n",
      "[u'more', u'than', u'anything', u'else', u',', u'i', u'just', u'want', u'to', u'see', u'seventeen', u'healthy', u'and', u'happy']\n",
      "[u'From', u'brown', u'hair', u'to', u'black', u'hair', u'for', u'first', u'day', u'of', u'school', u'#', u'NoToHairPolicy']\n",
      "[u'dun', u'sa', u'mga', u'naka', u'watch', u'ng', u'suicide', u'squad', u',', u'please', u'dont', u'spoil', u'anything', u'that', u'happened', u'in', u'movie', u':', u'(', u'(', u'(', u'(', u'(', u'(', u'(', u'(', u'(']\n",
      "[u'same']\n",
      "[u'guess', u'so']\n",
      "[u'so', u'tired']\n",
      "[u'why', u'could', u\"n't\", u'you', u'go', u'last', u'night', u'?']\n",
      "[u'It', u'does', u'.', u'One', u'of', u'those', u'things', u'that', u'sounds', u'funnier', u'when', u'said', u'aloud', u'...', u'if', u'I', u'could', u'speak', u'.', u'lol', u'Voice', u'has', u'been', u'acting', u'up', u'lately', u'.']\n",
      "[u'Thank', u'you', u'so', u'much', u'for', u'today', u';', u'\\U0001f618', u'love', u'you', u'guys', u'see', u'u', u'soon', u'ulit', u'!', u'\\U0001f602', u'nag', u'enjoy', u'ako', u'kahit', u'wala', u'tayong', u'pic', u'\\U0001f602']\n",
      "[u'I', u'ordered', u'this', u'yesterday', u'still', u'says', u'it', u'is', u'processing', u'not', u'and', u'now', u'dress', u'is', u'out', u'of', u'stock']\n",
      "[u'i', u'really', u'want', u'to', u'meet', u'twins', u'already', u':', u'(', u'(', u'(']\n",
      "[u'but', u'u', u'didnt', u'even', u'text', u'me', u'HAHAHA', u'what', u'was', u'it', u'that', u'u', u'wanted', u'to', u'say', u'jn']\n",
      "[u'Unsuccessful']\n",
      "[u'Happy', u'birthday', u'thx', u'for', u'all', u'mems', u'and', u'I', u'miss', u'playing', u'with', u'you', u'have', u'great', u'day', u'bb\\U0001f497']\n",
      "[u'Stupid', u'Russian', u'peeps-haters', u'are', u'worst', u'ever', u'.']\n",
      "[u'Aandipatty', u'song', u'is', u'good..', u'And', u'#', u'PoiVaada', u'is', u'tooo', u'good', u'...', u'Aanaa', u'avg', u'album', u'thaan', u'u1', u'#', u'Dharamadurai']\n",
      "[u'protect', u'him']\n",
      "[u'I', u'come', u'home', u'to', u'Mingyu', u'trending', u'no.1', u'I', u'hope', u'he', u\"'s\", u'okay']\n",
      "[u'I', u'wo', u\"n't\", u'be', u'able', u'to', u'watch', u'Kenny', u'Omega', u'vs', u'Tetsuya', u'Naito', u'via', u'live', u'stream', u'next', u'Saturday', u'.', u'Thinking', u'of', u'it', u'kills', u'me', u'everyday', u'.']\n",
      "[u'It', u'hurts', u'to', u'go', u'on', u'Facebook', u'because', u'most', u'of', u'time', u'I', u'just', u'see', u'videos', u'of', u'humans', u'torturing', u'animals', u'.', u'#', u'why']\n",
      "[u'idk', u'why', u'but', u'i', u'miss', u'you', u'so', u'much', u'come', u'back', u'alreadyyyy']\n",
      "[u'aw', u'I', u\"'ve\", u'only', u'ever', u'gotten', u'to', u'gold']\n",
      "[u'That', u'was', u'limited', u'release', u'!', u'I', u'really', u'wanted', u'that', u'one', u'but', u'it', u'sold', u'out', u'before', u'I', u'can', u'purchase', u'one']\n",
      "[u':', u'(', u'(', u'(', u'i', u'love', u'you', u'so', u'much']\n",
      "[u'Why', u'wo', u\"n't\", u'they', u'let', u'Meek', u'Mill', u'rest', u'\\U0001f602']\n",
      "[u'my', u'poor', u'child', u'i', u'hope', u'he', u'gets', u'well', u'soon', u'#', u'GetWellSoonMingyu']\n",
      "[u'I', u'miss', u'you', u'too', u'bb']\n",
      "[u'MAYO', u'HOSPITAL', u'Lahore', u'Biggest', u'Hospital', u',', u'Biggest', u'Province', u',', u'Biggest', u'Budget', u'.', u'Hospitals', u'across', u'country', u'r', u'like', u'these']\n",
      "[u'vater']\n",
      "[u'when', u'will', u'be', u'my', u'turn', u'?', u'\\u2661', u'please', u'Troye', u'come', u'to', u'Brazil', u'I', u'want', u'hug', u'and', u'kiss', u'you', u'so', u'bad']\n",
      "[u'I', u'have', u\"n't\", u'done', u'Radio', u'in', u'near', u'3', u'months', u',', u'got', u'bills', u'coming', u'outta', u'my', u'butthole', u';', u'ca', u\"n't\", u'afford', u'subs']\n",
      "[u'I', u'JUST', u'SAW', u'THIS', u'TODAY', u'WHAT', u'IS', u'WRONG', u'WITH', u'ME', u'AMANDAAAAA', u'UNNIEE', u'DO', u'WELL', u'AND', u'I', u\"'LL\", u'MISS', u'YOU', u'SO', u'MUCH', u'\\U0001f62d']\n",
      "[u'I', u'feel', u'you', u'nay', u':', u'(', u'(', u'(']\n",
      "[u'plz', u'hold', u'me', u'lmao']\n",
      "[u'thank', u'u', u'triciaaa', u'!', u'!', u'yes', u'pls', u'hang', u'soon', u':', u'(', u'(', u'miss', u'u', u'and', u'love', u'u', u'too']\n",
      "[u'yeah']\n",
      "[u'When', u'only', u'one', u'nostril', u'is', u'clogged', u'sheeeet', u'worst']\n",
      "[u'do', u'you', u'miss', u'your', u'favorite', u'dwarf', u'?', u'because', u'she', u'does', u'\\u2014', u'I', u'do']\n",
      "[u'#', u'gmyd', u'Nate', u'is', u\"n't\", u'going', u'?', u'no', u'no', u'no', u'.']\n",
      "[u'It', u'hurts', u'to', u'go', u'on', u'Facebook', u'because', u'most', u'of', u'time', u'I', u'just', u'see', u'videos', u'of', u'humans', u'torturing', u'animals', u'.', u'#', u'why']\n",
      "[u'Still', u'mad', u'that', u'kid', u'burned', u'my', u'hand', u'...', u'..', u'\\U0001f621', u'now', u'there', u'is', u'ugly', u'blister']\n",
      "[u'i', u'cant', u'come', u'to', u'CEBU', u',', u'PHILIPPINES']\n",
      "[u'not', u'many', u'are', u'active', u':', u'(', u'(']\n",
      "[u'I', u\"'m\", u'already', u'ready', u'to', u'be', u'home', u';', u'take', u'nap']\n",
      "[u'i', u'melt', u'you', u'like', u'ice', u'cream', u'ah', u'moodboster', u'bgt', u'liat', u'eskrim']\n",
      "[u'this', u'is', u'actually', u'minute', u'long', u'but', u'only', u'20', u'seconds', u'posted']\n",
      "[u'So', u'bad']\n",
      "[u'same']\n",
      "[u'My', u'bf', u'broke', u'up', u'with', u'me', u'.', u'#', u'anal', u'#', u'bikini', u'#', u'cumontits', u'#', u'nakedcam']\n",
      "[u'Bad', u'news', u'...', u'.']\n",
      "[u'We', u\"'re\", u'sorry', u'to', u'hear', u'this', u'Adam', u'Try', u'following', u'steps', u':', u';', u'let', u'us', u'know', u'how', u'you', u'get', u'on', u'please', u'.']\n",
      "[u'I', u'miss', u'my', u'dark', u'hair']\n",
      "[u'woah']\n",
      "[u'MIN', u'MY', u'ARMY', u'BOMB']\n",
      "[u'And', u'getting', u'back', u'their', u'phone']\n",
      "[u'Time', u'flies', u'so', u'fast', u'!', u'!', u':', u'(', u'(', u'BAILEYSBDAY3DaysToGo']\n",
      "[u'Mingyuuuu', u'TTTT', u'pls', u'get', u'well', u'soon', u'!', u'!', u'!', u'!']\n",
      "[u'Fck', u'I', u\"'m\", u'so', u'tired']\n",
      "[u'Appiaaaaah']\n",
      "[u'contract', u'signing', u'goodbye', u'world']\n",
      "[u'I', u'miss', u'my', u'dark', u'hair']\n",
      "[u'Thanks', u'jazz\\U0001f495\\U0001f495', u'miss', u'ya']\n",
      "[u'#', u'GetWellSoonMingyu', u'gyu-ya', u',', u'we', u'already', u'know', u'meanie', u'is', u'real', u',', u'you', u'didnt', u'have', u'to', u'get', u'injured', u'after', u'wonwoo', u':', u'(', u'(', u'(']\n",
      "[u'Tonight', u'we', u'drove', u'past', u'Centennial', u'Park', u'in', u'Sydney', u'and', u'pokemon', u'go', u'radar', u'said', u'3', u'pikachu', u'were', u'nearby', u'whole', u'time', u'but', u'I', u'did', u\"n't\", u'see', u'any']\n",
      "[u'mingyu', u'better', u'be', u'okay', u'im', u'so', u'sad', u'my', u'poor', u'baby']\n",
      "[u'I', u'love', u'mingyu', u'so', u'much', u'I', u\"'m\"]\n",
      "[u'The', u'fact', u'that', u'it', u'actually', u'came', u'true']\n",
      "[u'mine', u'used', u'to', u'do', u'that', u',', u'and', u'then', u'it', u'changed', u'to', u'current', u'problem', u';']\n",
      "[u'The', u'only', u'real', u'battle', u'in', u'life', u'is', u'between', u'hanging', u'on', u'and', u'letting', u'go', u'.', u':', u'-', u'(', u':', u'-', u'(']\n",
      "[u'i', u'still', u'remember', u'when', u'you', u'said', u'you', u\"'ll\", u'always', u'be', u'there']\n",
      "[u'Sooooo', u'stressed']\n",
      "[u'Oh', u'no', u'I', u'think', u'I', u'forgot', u'my', u'water', u'bottle', u'at', u'work']\n",
      "[u'please', u'calm', u'me', u'over', u'Pienaar', u'.', u'Tell', u'me', u'he', u\"'ll\", u'be', u'good']\n",
      "[u'well', u'this', u'is', u'right', u',', u'im', u'sorry', u'nicole', u':', u'-', u'(', u'(']\n",
      "[u'Got', u'ta', u'put', u'myself', u'in', u'rice', u'.']\n",
      "[u'Check', u'up', u'on', u'my', u'wrist', u'did', u\"n't\", u'go', u'according', u'to', u'plan']\n",
      "[u'glbyyy', u'wallah', u'i', u'miss', u'you', u'moorrreeeee', u':', u'(', u'(', u'\\u2764\\ufe0f\\u2764\\ufe0f\\u2764\\ufe0f\\u2764\\ufe0f']\n",
      "[u'this', u'is', u'bighit', u'asking', u'me', u'to', u'be', u'loyal']\n",
      "[u'baby', u'why', u'are', u'you', u'dying']\n",
      "[u'/get', u'close', u'to', u'you', u';', u'hug', u'you/', u'im', u'just', u'kidding']\n",
      "[u'yeah', u'and', u'i', u'just', u'saw', u'little', u'sneak', u'peak', u'of', u'it', u'and', u'well', u'he', u'sounded', u'nice', u';', u';', u'(', u'tho', u'he', u'looks', u'kinda', u'creepy', u'on', u'that', u'mono', u'pic', u'lol', u')']\n",
      "[u'i', u'just', u'want', u'ice', u'cream', u':', u'(', u'(']\n",
      "[u'craving', u'taco', u'from', u'stripes', u':', u'(', u'(', u'(']\n",
      "[u'My', u'1st', u'sem', u'physics', u'classmate', u'says', u'``', u'Hi', u'Iya', u'!', u'!', u\"''\", u'everytime', u'he', u'sees', u'me', u'but', u'idek', u'his', u'name', u';', u'hes', u'been', u'saying', u'hi', u'for', u'like', u'year', u'na', u'anuna', u':', u'(', u'(', u'(', u'(', u'(', u'(']\n",
      "[u'Eman', u'skate', u'makeup', u'curly', u'hair']\n",
      "[u'get', u'well', u'soon', u',', u'mingyu']\n",
      "[u'cool', u'wristband', u'you', u'got', u'there', u'!', u'Want', u'it', u'so', u'bad']\n",
      "[u'omg', u'who', u'?', u'im', u'soo', u'outdated', u'today']\n",
      "[u'I', u'CANT', u'BELIEVE', u'SUNGGYU', u'PLAYING', u'THE', u'PIANO', u'WILL', u'HAPPEN', u'AGAIN', u'OHMYGOD', u'BLESS']\n",
      "[u'i', u\"'m\", u'so', u'emotional', u'i', u\"'m\", u'listening', u'to', u'ariana', u\"'s\", u'old', u'covers']\n",
      "[u'Already', u'seeing', u'pics', u'of', u'ripped', u'up', u'membership', u'cards']\n",
      "[u'i', u'was', u'just', u'about', u'to', u'tweet', u'that', u'i', u'wanted', u'them', u'to', u'sing', u'and', u'dance', u'to', u'pick', u'me', u':', u'-', u'(', u'(', u'(', u'(', u'i', u\"'m\", u'crying', u'blood']\n",
      "[u'there', u\"'s\", u'lizard', u'under', u'my', u'bed', u'not', u'cool']\n",
      "[u'unlucky', u'get', u'well', u'soon', u'rich', u'!']\n",
      "[u'suicide', u'squad']\n",
      "[u':', u'(', u'(', u'at', u'least', u'he', u\"'s\", u'somewhat', u'okay', u'that', u'makes', u'me', u'feel', u'little', u'better', u'im', u'just', u'so', u'sad', u'oh', u'my', u'god', u':', u'(', u'(', u'I', u'hope', u'he', u'feels', u'better', u'soon']\n",
      "[u'really', u'sad', u'news', u'.', u'My', u'favourite', u'place', u'to', u'go', u'in', u'Reading', u'.']\n",
      "[u'just', u'carrying', u'on', u'.', u'So', u'tired', u'today', u'though']\n",
      "[u'I', u'ca', u\"n't\", u'lie', u'...', u'I', u'miss', u'you', u'.']\n",
      "[u'It', u'is', u'indeed', u'I', u'wish', u'I', u'could', u'hug', u'you', u'right', u'now', u'bb', u'Sending', u'lot', u'of', u'love', u'and', u'good', u'vibes', u'your', u'way', u'.']\n",
      "[u'I', u'CANT', u'BELIEVE', u'SUNGGYU', u'PLAYING', u'THE', u'PIANO', u'WILL', u'HAPPEN', u'AGAIN', u'OHMYGOD', u'BLESS']\n",
      "[u'Glenn', u'left', u'like', u'5', u'hours', u'ago', u'and', u'I', u'already', u'miss', u'him']\n",
      "[u'Oh', u'and', u'I', u'apologize', u'bc', u'there', u\"'s\", u'no', u'photocard', u'I', u'have', u'extras', u'of', u'every', u'MX', u'albums', u'and', u'decided', u'to', u'giveaway', u'album', u'only']\n",
      "[u'Leauge', u'down', u'till', u'10', u'am', u'my', u'time', u'.', u'Sad', u'panda', u'#', u'riot', u'#', u'gaming', u'#', u'leaugeoflegends']\n",
      "[u'i', u'love', u'my', u'boys', u'sm']\n",
      "[u'i', u'did', u'regret', u'posting', u'that', u'1st', u'impression', u'bla', u'bla', u'on', u'FB', u'!', u'my', u'fingers', u'got', u'tired', u'of', u'typing', u':', u'(', u'(', u'(', u'#', u'PushAwardsKathNiels']\n",
      "[u'well', u'i', u'am', u'blocked', u'!', u'!', u'!', u'masomana', u'sawal', u'tha', u'k', u'sir', u'peenay', u'ka', u'prog', u'kub', u'hai', u'?', u'\\U0001f602\\U0001f602']\n",
      "[u'Oh', u'I', u'got', u'excited', u'there', u'for', u'second', u'Got', u'7', u'hour', u'layover', u'at', u'Heathrow', u'coming', u'up', u',', u'and', u'there\\u2019s', u'only', u'so', u'much', u'of', u'T5', u'I', u'can', u'see', u'!']\n",
      "[u'oh', u'no', u'...', u'What', u'happened', u'?', u'?', u'I', u'hope', u'you', u'feel', u'better', u'hang', u'in', u'there', u'!', u'!']\n",
      "[u'I', u'also', u'wanted', u'to', u'do', u'this', u'for', u'Monebebes', u'who', u'ca', u\"n't\", u'afford', u'albums', u'So', u'pls', u'join', u'!', u'You', u'might', u'have', u'chance', u'to', u'win', u'!', u'Good', u'luck', u'!']\n",
      "[u'love', u'you', u'guys', u',', u'chaz', u'love', u'you', u'on', u'flipping', u'out', u'.', u'would', u'love', u'for', u'you', u'to', u'take', u'care', u'of', u'my', u'hair', u'but', u'i', u'am', u'in', u'texas']\n",
      "[u'...', u'Go', u'on']\n",
      "[u'#', u'CipherHunt', u'When', u'you', u'are', u'poor', u'to', u'pay', u'for', u'trip', u'But', u'you', u\"'re\", u'expert', u'in', u'Photoshop']\n",
      "[u'Beyonc\\xe9', u'makes', u'song', u'called', u'``', u'Cater', u'To', u'You', u\"''\", u'and', u'women', u'agree', u'.', u'If', u'man', u'says', u'they', u'need', u'woman', u'that', u'caters', u'to', u'them', u'then', u\"it'\\u2026\"]\n",
      "[u'Galaxy', u'Note', u'7', u'please', u':', u'(', u'(', u'(', u'(', u'(', u'(']\n",
      "[u'I', u'am', u'perfectly', u'happy', u'being', u'single', u'\\u2026..', u'Until', u'I', u'see', u'happy', u'couple', u'#', u'ALDUBMigrateOrNot']\n",
      "[u'Back', u'to', u'3k', u'again']\n",
      "[u'Just', u'wish', u'that', u'there', u'was', u'more', u'they', u'could', u\"'ve\", u'done', u'though', u'but', u'it', u'was', u'pretty', u'decent', u'.']\n",
      "[u'I', u'miss', u'playing', u'billiards']\n",
      "[u'Banketsu', u'seems', u'to', u'be', u'open', u'but', u'it', u'keeps', u'giving', u'me', u'error', u'code', u'1002']\n",
      "[u'I', u'feel', u'like', u'those', u'boxes', u'were', u'supposed', u'to', u'give', u'u', u'skin', u'.', u'Bc', u'I', u'got', u'gold', u'Winston', u'one', u',', u'but', u'not', u'one', u'of', u'new', u'ones']\n",
      "[u'Time', u'flies', u'so', u'fast', u'!', u'!', u':', u'(', u'(', u'BAILEYSBDAY3DaysToGo']\n",
      "[u'I', u'guess', u'spark', u\"'s\", u'all', u'gone', u'now']\n",
      "[u'you', u\"'re\", u'breaking', u'my', u'heart', u',', u'Steve', u'...']\n",
      "[u'Beyonc\\xe9', u'makes', u'song', u'called', u'``', u'Cater', u'To', u'You', u\"''\", u'and', u'women', u'agree', u'.', u'If', u'man', u'says', u'they', u'need', u'woman', u'that', u'caters', u'to', u'them', u'then', u\"it'\\u2026\"]\n",
      "[u'I', u'am', u'terrified', u'by', u'my', u'lack', u'of', u'comprehension', u'of', u'weighed', u',', u'melancholic', u'writing', u'of', u'#', u'EdgarAllanPoe', u'in', u'#', u'TerrifyingTales']\n",
      "[u'Stars', u'-', u'Set', u'Yourself', u'On', u'Fire', u'is', u'not', u'on', u'Google', u'Music', u'...', u'.']\n",
      "[u'I', u\"'m\", u'gon', u'na', u'miss', u'this', u'hot', u'summer', u'we', u'had', u'.']\n",
      "[u'sorry', u'crainer', u'i', u'didnt', u'mean', u'what', u'i', u'said', u'!', u'friends', u'?', u'...']\n",
      "[u'i', u'hope', u'u', u'had', u'good', u'sleep', u'i', u'love', u'u']\n",
      "[u'garing', u'bege', u':', u'(', u'(']\n",
      "[u'Can', u'not', u'baaaaalive', u'ewe', u'stopped', u'doing', u'rock', u'cakes', u'and', u'scones', u'What', u'next', u'sausage', u'rolls', u'and', u'fresh', u'cream', u'cakes', u'lol', u'xx']\n",
      "[u'JUST', u'WHEN', u'I', u'WENT', u'ONLINE', u'?', u'\\U0001f624', u'lol', u'jk', u'bb', u'I', u'hope', u'you', u\"'re\", u'ok']\n",
      "[u'taeyong', u',', u',', u',', u'pls', u'eat', u'more', u'babe', u':', u'(', u'(', u'(', u'(', u'(', u'you', u\"'re\", u'so', u'thin', u'I', u'get', u'so', u'worried']\n",
      "[u'it', u'depends', u'uno', u'.', u'maybe', u'hes', u'broke', u'atm', u'i', u'wouldnt', u'end', u'it', u'but', u'certainly', u'not', u'having', u'that']\n",
      "[u'THREE', u'HUNDRED', u'AND', u'SIXTY', u'PELLETS']\n",
      "[u'I', u'was', u'bit', u'too', u'emosh', u'to', u'notice', u'much', u'by', u'that', u'point', u':', u'(']\n",
      "[u'The', u'last', u'thing', u'I', u'want', u'to', u'do', u'today', u'is', u'work']\n",
      "[u'The', u'fact', u'that', u'it', u'actually', u'came', u'true']\n",
      "[u'daming', u'test', u'bukas', u':', u'(', u'(', u'CandysCrush', u'FinaleThisSunday']\n",
      "[u'I', u'LOVE', u'UNIT', u'RED', u'THEY', u'DO', u\"N'T\", u'DESERVE', u'ANYTHING', u'BAD', u'THEY', u'DESERVE', u'EVERYTHING', u'GOOD', u'IN', u'THIS', u'WORLD', u':', u'(', u'(']\n",
      "[u'.i', u\"'m\", u'really', u'spoil', u\"'d\", u'.', u'like', u'i', u'needa', u'get', u'out', u'of', u'that', u'habbit', u',', u'cause', u'i', u'b', u'acting', u'like', u'baby', u',', u'when', u'stuff', u'does', u\"n't\", u'go', u'my', u'way', u'.']\n",
      "[u'theyre', u'so', u'many', u'to', u'mention', u'sir', u'haha', u'mithyu']\n",
      "[u'MAYO', u'HOSPITAL', u'Lahore', u'Biggest', u'Hospital', u',', u'Biggest', u'Province', u',', u'Biggest', u'Budget', u'.', u'Hospitals', u'across', u'country', u'r', u'like', u'these']\n",
      "[u'i', u'woke', u'up', u'to', u'delete', u'my', u'snap', u'nd', u'now', u'i', u'cant', u'go', u'bac', u'to', u'sleep']\n",
      "[u'so', u'tiredddd', u'of', u'doing', u'school', u'stuffs']\n",
      "[u'I', u'HV', u'TO', u'STUDY', u'OMG', u'BUT', u'I', u'CA', u\"N'T\", u'...', u'.i', u\"'m\", u'not', u'motivated', u':', u'(', u'(', u'(', u'(']\n",
      "[u'too', u'bad', u'ur', u'not', u'me', u':', u'(']\n",
      "[u'I', u\"'m\", u'really', u'behind', u'everyone', u'else', u'in', u'Pok\\xe9Go', u'b/c', u'I', u'did', u\"n't\", u'have', u'data', u'for', u'so', u'long', u'I', u\"'m\", u'only', u'like', u'level', u'7', u'still']\n",
      "[u'more', u'than', u'anything', u'else', u',', u'i', u'just', u'want', u'to', u'see', u'seventeen', u'healthy', u'and', u'happy']\n",
      "[u'From', u'brown', u'hair', u'to', u'black', u'hair', u'for', u'first', u'day', u'of', u'school', u'#', u'NoToHairPolicy']\n",
      "[u'dun', u'sa', u'mga', u'naka', u'watch', u'ng', u'suicide', u'squad', u',', u'please', u'dont', u'spoil', u'anything', u'that', u'happened', u'in', u'movie', u':', u'(', u'(', u'(', u'(', u'(', u'(', u'(', u'(', u'(']\n",
      "[u'same']\n",
      "[u'guess', u'so']\n",
      "[u'so', u'tired']\n",
      "[u'why', u'could', u\"n't\", u'you', u'go', u'last', u'night', u'?']\n",
      "[u'It', u'does', u'.', u'One', u'of', u'those', u'things', u'that', u'sounds', u'funnier', u'when', u'said', u'aloud', u'...', u'if', u'I', u'could', u'speak', u'.', u'lol', u'Voice', u'has', u'been', u'acting', u'up', u'lately', u'.']\n",
      "[u'Thank', u'you', u'so', u'much', u'for', u'today', u';', u'\\U0001f618', u'love', u'you', u'guys', u'see', u'u', u'soon', u'ulit', u'!', u'\\U0001f602', u'nag', u'enjoy', u'ako', u'kahit', u'wala', u'tayong', u'pic', u'\\U0001f602']\n",
      "[u'I', u'ordered', u'this', u'yesterday', u'still', u'says', u'it', u'is', u'processing', u'not', u'and', u'now', u'dress', u'is', u'out', u'of', u'stock']\n",
      "[u'i', u'really', u'want', u'to', u'meet', u'twins', u'already', u':', u'(', u'(', u'(']\n",
      "[u'but', u'u', u'didnt', u'even', u'text', u'me', u'HAHAHA', u'what', u'was', u'it', u'that', u'u', u'wanted', u'to', u'say', u'jn']\n",
      "[u'Unsuccessful']\n",
      "[u'Happy', u'birthday', u'thx', u'for', u'all', u'mems', u'and', u'I', u'miss', u'playing', u'with', u'you', u'have', u'great', u'day', u'bb\\U0001f497']\n",
      "[u'Stupid', u'Russian', u'peeps-haters', u'are', u'worst', u'ever', u'.']\n",
      "[u'Aandipatty', u'song', u'is', u'good..', u'And', u'#', u'PoiVaada', u'is', u'tooo', u'good', u'...', u'Aanaa', u'avg', u'album', u'thaan', u'u1', u'#', u'Dharamadurai']\n",
      "[u'protect', u'him']\n",
      "[u'I', u'come', u'home', u'to', u'Mingyu', u'trending', u'no.1', u'I', u'hope', u'he', u\"'s\", u'okay']\n",
      "[u'I', u'wo', u\"n't\", u'be', u'able', u'to', u'watch', u'Kenny', u'Omega', u'vs', u'Tetsuya', u'Naito', u'via', u'live', u'stream', u'next', u'Saturday', u'.', u'Thinking', u'of', u'it', u'kills', u'me', u'everyday', u'.']\n",
      "[u'It', u'hurts', u'to', u'go', u'on', u'Facebook', u'because', u'most', u'of', u'time', u'I', u'just', u'see', u'videos', u'of', u'humans', u'torturing', u'animals', u'.', u'#', u'why']\n",
      "[u'idk', u'why', u'but', u'i', u'miss', u'you', u'so', u'much', u'come', u'back', u'alreadyyyy']\n",
      "[u'aw', u'I', u\"'ve\", u'only', u'ever', u'gotten', u'to', u'gold']\n",
      "[u'That', u'was', u'limited', u'release', u'!', u'I', u'really', u'wanted', u'that', u'one', u'but', u'it', u'sold', u'out', u'before', u'I', u'can', u'purchase', u'one']\n",
      "[u':', u'(', u'(', u'(', u'i', u'love', u'you', u'so', u'much']\n",
      "[u'Why', u'wo', u\"n't\", u'they', u'let', u'Meek', u'Mill', u'rest', u'\\U0001f602']\n",
      "[u'my', u'poor', u'child', u'i', u'hope', u'he', u'gets', u'well', u'soon', u'#', u'GetWellSoonMingyu']\n",
      "[u'I', u'miss', u'you', u'too', u'bb']\n",
      "[u'MAYO', u'HOSPITAL', u'Lahore', u'Biggest', u'Hospital', u',', u'Biggest', u'Province', u',', u'Biggest', u'Budget', u'.', u'Hospitals', u'across', u'country', u'r', u'like', u'these']\n",
      "[u'vater']\n",
      "[u'I', u'binned', u'it', u'is', u'there', u'link', u'or', u'something', u'I', u'can', u'get', u'new', u'one', u'?']\n",
      "[u'tru', u'i', u'should', u\"'ve\", u'done', u'that', u'ugh', u'lesson', u'learned']\n",
      "[u'me', u':', u'suicide', u'squad', u'looks', u'so', u'good', u'i', u'ca', u\"n't\", u'wai-', u'critics', u':', u'joker', u'gets', u'no', u'screentime', u'me', u':', u'anyway', u'as', u'i', u'was', u'saying', u',', u'it', u'l\\u2026']\n",
      "[u'tired', u'af', u'and', u'i', u'still', u'need', u'to', u'do', u'math', u'pt', u'and', u'hw', u':', u'(', u'(']\n",
      "[u'big', u'nooooo', u':', u'(', u'(', u'(', u'(', u'(']\n",
      "[u'FRIENDSHIP', u'WAS', u'OVER', u'?', u':', u\"'\", u'(', u'#', u'Besfriend', u';', u'/3', u'\\u2014', u'feeling', u'sad']\n",
      "[u'it', u'depends', u'uno', u'.', u'maybe', u'hes', u'broke', u'atm', u'i', u'wouldnt', u'end', u'it', u'but', u'certainly', u'not', u'having', u'that']\n",
      "[u'i', u'could', u\"n't\", u'go', u'to', u'signing', u'but', u'i', u'did', u'order', u'#', u'WISHMAKER', u'online', u'\\u2728']\n",
      "[u'Still', u'hungry']\n",
      "[u'missyou', u'baby', u'asher', u'seeyousoon']\n",
      "[u'harot', u'bes', u'harot']\n",
      "[u'It', u'hurts', u'to', u'go', u'on', u'Facebook', u'because', u'most', u'of', u'time', u'I', u'just', u'see', u'videos', u'of', u'humans', u'torturing', u'animals', u'.', u'#', u'why']\n",
      "[u'When', u'Polygon', u'shows', u'up', u'in', u'your', u'nearby', u'but', u'it', u\"'s\", u'late', u',', u'pouring', u'rain', u'and', u'tracker', u'is', u'absolutely', u'no', u'help', u'at', u'all']\n",
      "[u'Sending', u'hugs', u'.']\n",
      "[u'So', u'sad', u'but', u'selling', u'creamfields', u'ticket', u'whole', u'weekend', u'camping', u'!', u'!', u'!', u'!', u'!', u'!', u'Dm', u'me', u'if', u'interested', u'\\U0001f618']\n",
      "[u'SORRY', u'is', u'just', u'what', u'I', u'could', u'say', u'and', u'I', u'know', u'it', u\"'s\", u'not', u'good', u'enough', u'for', u'all', u'things', u'I', u'did', u'that', u'hurt', u'you..']\n",
      "[u'i', u\"'m\", u'sad', u',', u'want', u'to', u'see', u'world', u'in', u'HD', u'again', u'without', u'any', u'help']\n",
      "[u'how', u'come', u'?', u'you', u'ca', u\"n't\", u'leave', u'all', u'of', u'us', u'behind', u'!']\n",
      "[u'May', u'you', u'Rest', u'in', u'Peace', u'Trishia', u'Mae', u'Lloren', u'.', u'Di', u'ko', u'katuo', u'do', u'.', u'Whyyy', u'?']\n",
      "[u'first', u'2', u'posts', u'were', u'5', u'and', u'6', u'hrs', u'ago', u'.']\n",
      "[u'My', u'sim', u'card', u'is', u'not', u'Telkomsel']\n",
      "[u'so', u'late', u'thn', u'reply']\n",
      "[u'We', u\"'re\", u'sorry', u'to', u'hear', u'this', u'Lauren', u'So', u'we', u'can', u'take', u'look', u'please', u'chat', u'to', u'us', u'on', u'link', u'here', u':']\n",
      "[u'Do', u'you', u'remember', u'when', u'we', u'were', u'besties', u'?']\n",
      "[u'now', u'it', u\"'s\", u'tomorrow', u',', u'I', u'thought', u'I', u'has', u'1', u'more', u'day', u':', u'(', u'(']\n",
      "[u'I', u'should', u'recieve', u'my', u'gintama', u'comic', u'today', u'but', u'i', u'cant', u'read', u'it']\n",
      "[u'I', u'miss', u'my', u'baby']\n",
      "[u'worst', u'has', u'happened', u'mama', u'aj', u'now', u'i', u'think', u'i', u'wont', u'be', u'able', u'to', u'go', u'to', u'fanmeet', u'for', u'real', u'anymore', u'ill', u'end', u'up', u'using', u'money', u'to']\n",
      "[u'OMG', u'YOU', u'GUYS', u'IM', u'SORRY', u'FOR', u'NOT', u'TWEETING', u'HUHU', u'#', u'EncantadiaDamdamin']\n",
      "[u'rest', u'in', u'peace', u'Mexican', u'Elvis', u'market', u'square', u'will', u'never', u'be', u'same', u'without', u'you', u'\\U0001f613\\u2764\\ufe0f\\U0001f47c\\U0001f3fc']\n",
      "[u'stay', u'strong']\n",
      "[u'No', u'3-3-3', u'today', u'.', u'BOTD', u':', u'6.235', u'and', u'2.284']\n",
      "[u'Wish', u'I', u'had', u'my', u'old', u'toy', u'cars', u'.', u':', u'(', u'(']\n",
      "[u'Ca', u\"n't\", u'believe', u'I', u\"'ve\", u'actually', u'seen', u'you', u'today', u'in', u'Tel', u'Aviv', u'and', u'did', u\"n't\", u'say', u'anything', u':', u'(', u'(']\n",
      "[u'I', u'want', u'Starbucks', u'now']\n",
      "[u'PICK', u'ME', u':', u'(', u'(', u'(', u'(', u'(', u'LEE', u'FUCKING', u'SUNGYEOL', u'I', u'FUCKING', u'LOVE', u'YOU', u':', u'(', u'(', u'(']\n",
      "[u'#', u'GetWellSoonMingyu', u'i', u'legit', u'want', u'to', u'cry', u'my', u'baby', u':', u'(', u'(']\n",
      "[u'It', u'was', u'soooo', u'cold', u'at', u'uni', u'tonight', u';', u'im', u'still', u'feeling', u'cold', u';', u'I', u\"'m\", u'now', u'dreading', u'going', u'to', u'America', u'at', u'end', u'of', u'year', u'because', u'ill', u'probs', u'die']\n",
      "[u'Krayyy', u'#', u'IfYouKnowWhatIMean']\n",
      "[u'This', u'reminds', u'me', u'of', u'this', u'fm', u'where', u'idk', u'if', u'it', u\"'s\", u'me', u'or', u'hoshi', u\"'s\", u'quite', u'not', u'uhm', u'okay', u'?', u'Our', u'choreographer', u'pls', u'rest', u'well']\n",
      "[u'I', u'wan', u'na', u'be', u'there', u':', u'(', u'(', u'(', u'(', u'(']\n",
      "[u'My', u'cowboys', u'really', u'going', u'into', u'this', u'season', u'without', u'defense', u'at', u'all', u'..']\n",
      "[u'I', u'miss', u'my', u'dark', u'hair']\n",
      "[u'Sensei', u'I', u'want', u'candy']\n",
      "[u'our', u'teacher', u'is', u'kinda', u'boring', u':', u'-', u'(', u'(']\n",
      "[u'You', u'tell', u'me', u'that', u'you', u'needed', u'time', u'but', u'you', u'pushed', u'me', u'away']\n",
      "[u'please', u'do', u\"n't\", u'talk', u'about', u'my', u'huge', u'forehead', u'lol', u'that', u'was', u'my', u'first', u'time', u'rule', u'out', u'my', u'bangs', u':', u'(']\n",
      "[u'I', u\"'m\", u'already', u'zombie', u':', u'(', u'(', u'(', u'[', u']']\n",
      "[u'HAFIZZZZ', u'I', u'JUST', u'REALISED', u'I', u'DIDNT', u'MEET', u'U', u'FR', u'A', u'WEEK', u'AND', u'A', u'DAY', u'NOW', u'?', u'?', u'!', u'!', u'WTH', u'I', u'ACTL', u'MISS', u'U', u':', u'(', u'(']\n",
      "[u'baby', u'why', u'are', u'you', u'dying']\n",
      "[u'/get', u'close', u'to', u'you', u';', u'hug', u'you/', u'im', u'just', u'kidding']\n",
      "[u'yeah', u'and', u'i', u'just', u'saw', u'little', u'sneak', u'peak', u'of', u'it', u'and', u'well', u'he', u'sounded', u'nice', u';', u';', u'(', u'tho', u'he', u'looks', u'kinda', u'creepy', u'on', u'that', u'mono', u'pic', u'lol', u')']\n",
      "[u'i', u'just', u'want', u'ice', u'cream', u':', u'(', u'(']\n",
      "[u'craving', u'taco', u'from', u'stripes', u':', u'(', u'(', u'(']\n",
      "[u'My', u'1st', u'sem', u'physics', u'classmate', u'says', u'``', u'Hi', u'Iya', u'!', u'!', u\"''\", u'everytime', u'he', u'sees', u'me', u'but', u'idek', u'his', u'name', u';', u'hes', u'been', u'saying', u'hi', u'for', u'like', u'year', u'na', u'anuna', u':', u'(', u'(', u'(', u'(', u'(', u'(']\n",
      "[u'Eman', u'skate', u'makeup', u'curly', u'hair']\n",
      "[u'get', u'well', u'soon', u',', u'mingyu']\n",
      "[u'cool', u'wristband', u'you', u'got', u'there', u'!', u'Want', u'it', u'so', u'bad']\n",
      "[u'omg', u'who', u'?', u'im', u'soo', u'outdated', u'today']\n",
      "[u'I', u'CANT', u'BELIEVE', u'SUNGGYU', u'PLAYING', u'THE', u'PIANO', u'WILL', u'HAPPEN', u'AGAIN', u'OHMYGOD', u'BLESS']\n",
      "[u'i', u\"'m\", u'so', u'emotional', u'i', u\"'m\", u'listening', u'to', u'ariana', u\"'s\", u'old', u'covers']\n",
      "[u'Already', u'seeing', u'pics', u'of', u'ripped', u'up', u'membership', u'cards']\n",
      "[u'i', u'was', u'just', u'about', u'to', u'tweet', u'that', u'i', u'wanted', u'them', u'to', u'sing', u'and', u'dance', u'to', u'pick', u'me', u':', u'-', u'(', u'(', u'(', u'(', u'i', u\"'m\", u'crying', u'blood']\n",
      "[u'there', u\"'s\", u'lizard', u'under', u'my', u'bed', u'not', u'cool']\n",
      "[u'unlucky', u'get', u'well', u'soon', u'rich', u'!']\n",
      "[u'suicide', u'squad']\n",
      "[u':', u'(', u'(', u'at', u'least', u'he', u\"'s\", u'somewhat', u'okay', u'that', u'makes', u'me', u'feel', u'little', u'better', u'im', u'just', u'so', u'sad', u'oh', u'my', u'god', u':', u'(', u'(', u'I', u'hope', u'he', u'feels', u'better', u'soon']\n",
      "[u'really', u'sad', u'news', u'.', u'My', u'favourite', u'place', u'to', u'go', u'in', u'Reading', u'.']\n",
      "[u'just', u'carrying', u'on', u'.', u'So', u'tired', u'today', u'though']\n",
      "[u'I', u'ca', u\"n't\", u'lie', u'...', u'I', u'miss', u'you', u'.']\n",
      "[u'It', u'is', u'indeed', u'I', u'wish', u'I', u'could', u'hug', u'you', u'right', u'now', u'bb', u'Sending', u'lot', u'of', u'love', u'and', u'good', u'vibes', u'your', u'way', u'.']\n",
      "[u'I', u'CANT', u'BELIEVE', u'SUNGGYU', u'PLAYING', u'THE', u'PIANO', u'WILL', u'HAPPEN', u'AGAIN', u'OHMYGOD', u'BLESS']\n",
      "[u'Glenn', u'left', u'like', u'5', u'hours', u'ago', u'and', u'I', u'already', u'miss', u'him']\n",
      "[u'Oh', u'and', u'I', u'apologize', u'bc', u'there', u\"'s\", u'no', u'photocard', u'I', u'have', u'extras', u'of', u'every', u'MX', u'albums', u'and', u'decided', u'to', u'giveaway', u'album', u'only']\n",
      "[u'Leauge', u'down', u'till', u'10', u'am', u'my', u'time', u'.', u'Sad', u'panda', u'#', u'riot', u'#', u'gaming', u'#', u'leaugeoflegends']\n",
      "[u'i', u'love', u'my', u'boys', u'sm']\n",
      "[u'i', u'did', u'regret', u'posting', u'that', u'1st', u'impression', u'bla', u'bla', u'on', u'FB', u'!', u'my', u'fingers', u'got', u'tired', u'of', u'typing', u':', u'(', u'(', u'(', u'#', u'PushAwardsKathNiels']\n",
      "[u'well', u'i', u'am', u'blocked', u'!', u'!', u'!', u'masomana', u'sawal', u'tha', u'k', u'sir', u'peenay', u'ka', u'prog', u'kub', u'hai', u'?', u'\\U0001f602\\U0001f602']\n",
      "[u'Oh', u'I', u'got', u'excited', u'there', u'for', u'second', u'Got', u'7', u'hour', u'layover', u'at', u'Heathrow', u'coming', u'up', u',', u'and', u'there\\u2019s', u'only', u'so', u'much', u'of', u'T5', u'I', u'can', u'see', u'!']\n",
      "[u'oh', u'no', u'...', u'What', u'happened', u'?', u'?', u'I', u'hope', u'you', u'feel', u'better', u'hang', u'in', u'there', u'!', u'!']\n",
      "[u'I', u'also', u'wanted', u'to', u'do', u'this', u'for', u'Monebebes', u'who', u'ca', u\"n't\", u'afford', u'albums', u'So', u'pls', u'join', u'!', u'You', u'might', u'have', u'chance', u'to', u'win', u'!', u'Good', u'luck', u'!']\n",
      "[u'love', u'you', u'guys', u',', u'chaz', u'love', u'you', u'on', u'flipping', u'out', u'.', u'would', u'love', u'for', u'you', u'to', u'take', u'care', u'of', u'my', u'hair', u'but', u'i', u'am', u'in', u'texas']\n",
      "[u'...', u'Go', u'on']\n",
      "[u'#', u'CipherHunt', u'When', u'you', u'are', u'poor', u'to', u'pay', u'for', u'trip', u'But', u'you', u\"'re\", u'expert', u'in', u'Photoshop']\n",
      "[u'Beyonc\\xe9', u'makes', u'song', u'called', u'``', u'Cater', u'To', u'You', u\"''\", u'and', u'women', u'agree', u'.', u'If', u'man', u'says', u'they', u'need', u'woman', u'that', u'caters', u'to', u'them', u'then', u\"it'\\u2026\"]\n",
      "[u'Galaxy', u'Note', u'7', u'please', u':', u'(', u'(', u'(', u'(', u'(', u'(']\n",
      "[u'I', u'am', u'perfectly', u'happy', u'being', u'single', u'\\u2026..', u'Until', u'I', u'see', u'happy', u'couple', u'#', u'ALDUBMigrateOrNot']\n",
      "[u'Back', u'to', u'3k', u'again']\n",
      "[u'Just', u'wish', u'that', u'there', u'was', u'more', u'they', u'could', u\"'ve\", u'done', u'though', u'but', u'it', u'was', u'pretty', u'decent', u'.']\n",
      "[u'I', u'miss', u'playing', u'billiards']\n",
      "[u'Banketsu', u'seems', u'to', u'be', u'open', u'but', u'it', u'keeps', u'giving', u'me', u'error', u'code', u'1002']\n",
      "[u'I', u'feel', u'like', u'those', u'boxes', u'were', u'supposed', u'to', u'give', u'u', u'skin', u'.', u'Bc', u'I', u'got', u'gold', u'Winston', u'one', u',', u'but', u'not', u'one', u'of', u'new', u'ones']\n",
      "[u'Time', u'flies', u'so', u'fast', u'!', u'!', u':', u'(', u'(', u'BAILEYSBDAY3DaysToGo']\n",
      "[u'I', u'guess', u'spark', u\"'s\", u'all', u'gone', u'now']\n",
      "[u'you', u\"'re\", u'breaking', u'my', u'heart', u',', u'Steve', u'...']\n",
      "[u'Beyonc\\xe9', u'makes', u'song', u'called', u'``', u'Cater', u'To', u'You', u\"''\", u'and', u'women', u'agree', u'.', u'If', u'man', u'says', u'they', u'need', u'woman', u'that', u'caters', u'to', u'them', u'then', u\"it'\\u2026\"]\n",
      "[u'I', u'am', u'terrified', u'by', u'my', u'lack', u'of', u'comprehension', u'of', u'weighed', u',', u'melancholic', u'writing', u'of', u'#', u'EdgarAllanPoe', u'in', u'#', u'TerrifyingTales']\n",
      "[u'Stars', u'-', u'Set', u'Yourself', u'On', u'Fire', u'is', u'not', u'on', u'Google', u'Music', u'...', u'.']\n",
      "[u'I', u\"'m\", u'gon', u'na', u'miss', u'this', u'hot', u'summer', u'we', u'had', u'.']\n",
      "[u'sorry', u'crainer', u'i', u'didnt', u'mean', u'what', u'i', u'said', u'!', u'friends', u'?', u'...']\n"
     ]
    }
   ],
   "source": [
    "for tokenizedNegTweet in negs:\n",
    "    print tokenizedNegTweet"
   ]
  },
  {
   "cell_type": "code",
   "execution_count": 295,
   "metadata": {
    "collapsed": true
   },
   "outputs": [],
   "source": [
    "pos_tweets = !python ./twitterstream.py \"https://api.twitter.com/1.1/search/tweets.json?q=%3A%29&lang=eu&count=100\""
   ]
  },
  {
   "cell_type": "code",
   "execution_count": 296,
   "metadata": {
    "collapsed": false
   },
   "outputs": [],
   "source": [
    "neu_tweets = !python ./twitterstream.py \"https://api.twitter.com/1.1/search/tweets.json?q=from%3AHuffingtonPost&count=100\""
   ]
  },
  {
   "cell_type": "code",
   "execution_count": 301,
   "metadata": {
    "collapsed": false
   },
   "outputs": [
    {
     "name": "stdout",
     "output_type": "stream",
     "text": [
      "Negative tweets dataset size: 100\n",
      "Positive tweets dataset size: 100\n",
      "Neutral tweets dataset size: 100\n"
     ]
    }
   ],
   "source": [
    "print (\"Negative tweets dataset size: \" + str(len(getTokenizedTweets(neg_tweets))))\n",
    "print (\"Positive tweets dataset size: \" + str(len(getTokenizedTweets(pos_tweets))))\n",
    "print (\"Neutral tweets dataset size: \" + str(len(getTokenizedTweets(neu_tweets))))"
   ]
  },
  {
   "cell_type": "markdown",
   "metadata": {
    "collapsed": false
   },
   "source": [
    "# Feature extraction"
   ]
  },
  {
   "cell_type": "markdown",
   "metadata": {},
   "source": [
    "### We remove URL links, Twitter user names and Twitter special words (e.g. \"RT\" (retweet)) and emoticons   "
   ]
  },
  {
   "cell_type": "code",
   "execution_count": 47,
   "metadata": {
    "collapsed": false
   },
   "outputs": [
    {
     "name": "stdout",
     "output_type": "stream",
     "text": [
      "Before: And now for something !!don't I'm completely different the http://google.fr\n",
      "After: And now for something !!don't I'm completely different the \n"
     ]
    }
   ],
   "source": [
    "processed = process(tweet)\n",
    "print (\"Before: \" + tweet)\n",
    "print (\"After: \" + processed)"
   ]
  },
  {
   "cell_type": "markdown",
   "metadata": {},
   "source": [
    "### Tokenization "
   ]
  },
  {
   "cell_type": "code",
   "execution_count": 52,
   "metadata": {
    "collapsed": false
   },
   "outputs": [
    {
     "name": "stdout",
     "output_type": "stream",
     "text": [
      "Before: And now for something !!don't I'm completely different the http://google.fr\n",
      "After: ['And', 'now', 'for', 'something', '!', '!', 'do', \"n't\", 'I', \"'m\", 'completely', 'different', 'the']\n"
     ]
    }
   ],
   "source": [
    "tokenized = word_tokenize(processed)\n",
    "print (\"Before: \" + tweet)\n",
    "print (\"After: \" + str(tokenized))"
   ]
  },
  {
   "cell_type": "markdown",
   "metadata": {},
   "source": [
    "### Removing stop words from bag of words"
   ]
  },
  {
   "cell_type": "code",
   "execution_count": 55,
   "metadata": {
    "collapsed": false
   },
   "outputs": [
    {
     "name": "stdout",
     "output_type": "stream",
     "text": [
      "Before: And now for something !!don't I'm completely different the http://google.fr\n",
      "After: ['And', 'now', 'for', 'something', '!', '!', 'do', \"n't\", 'I', \"'m\", 'completely', 'different']\n"
     ]
    }
   ],
   "source": [
    "withoutStopWords = removeStopWords(tokenized)\n",
    "print (\"Before: \" + tweet)\n",
    "print (\"After: \" + str(withoutStopWords))"
   ]
  },
  {
   "cell_type": "markdown",
   "metadata": {},
   "source": [
    "### Compute Part-Of-Speech tags "
   ]
  },
  {
   "cell_type": "code",
   "execution_count": 69,
   "metadata": {
    "collapsed": false
   },
   "outputs": [
    {
     "name": "stdout",
     "output_type": "stream",
     "text": [
      "Before: And now for something !!don't I'm completely different the http://google.fr\n",
      "After: [('And', 'CC'), ('now', 'RB'), ('for', 'IN'), ('something', 'NN'), ('!', '.'), ('!', '.'), ('do', 'VBP'), (\"n't\", 'RB'), ('I', 'PRP'), (\"'m\", 'VBP'), ('completely', 'RB'), ('different', 'JJ')]\n"
     ]
    }
   ],
   "source": [
    "pos = pos_tag(withoutStopWords)\n",
    "print (\"Before: \" + tweet)\n",
    "print (\"After: \" + str(pos))"
   ]
  },
  {
   "cell_type": "markdown",
   "metadata": {},
   "source": [
    "### Remove punctuation"
   ]
  },
  {
   "cell_type": "code",
   "execution_count": 70,
   "metadata": {
    "collapsed": false
   },
   "outputs": [
    {
     "name": "stdout",
     "output_type": "stream",
     "text": [
      "Features set 1: [('And', 'CC'), ('now', 'RB'), ('for', 'IN'), ('something', 'NN'), ('do', 'VBP'), (\"n't\", 'RB'), ('I', 'PRP'), (\"'m\", 'VBP'), ('completely', 'RB'), ('different', 'JJ')]\n",
      "\n",
      "\n",
      "Features set 2: [('And', 'now'), ('now', 'for'), ('for', 'something'), ('something', 'do'), ('do', \"n't\"), (\"n't\", 'I'), ('I', \"'m\"), (\"'m\", 'completely'), ('completely', 'different')]\n"
     ]
    }
   ],
   "source": [
    "features_pos = [(k,v) for (k,v) in pos if k not in  string.punctuation ]\n",
    "features_ngrams = find_ngrams([k for (k,_) in features_pos])\n",
    "print (\"Features set 1: \" + str(features_pos))\n",
    "nl()\n",
    "print (\"Features set 2: \" + str(features_ngrams))"
   ]
  },
  {
   "cell_type": "markdown",
   "metadata": {
    "collapsed": false
   },
   "source": [
    "# Feature engineering (Please bring some coffee)"
   ]
  },
  {
   "cell_type": "code",
   "execution_count": 164,
   "metadata": {
    "collapsed": false
   },
   "outputs": [],
   "source": [
    "neutral_pos = getPosTweetsFromTokenized(getTokenizedTweets(neu_tweets))"
   ]
  },
  {
   "cell_type": "code",
   "execution_count": null,
   "metadata": {
    "collapsed": false
   },
   "outputs": [],
   "source": [
    "features_pos = [(k,v) for (k,v) in chain2(neutral_pos) if k not in  string.punctuation]"
   ]
  },
  {
   "cell_type": "code",
   "execution_count": 274,
   "metadata": {
    "collapsed": false
   },
   "outputs": [],
   "source": [
    "neu_pos = [(k,v) for (k,v) in chain2(neutral_pos) if k not in  string.punctuation]"
   ]
  },
  {
   "cell_type": "code",
   "execution_count": 279,
   "metadata": {
    "collapsed": true
   },
   "outputs": [],
   "source": [
    "neu_pos_dist = collections.Counter([pos for (_,pos) in neu_pos])"
   ]
  },
  {
   "cell_type": "code",
   "execution_count": 281,
   "metadata": {
    "collapsed": false
   },
   "outputs": [],
   "source": [
    "plotTagDistrubition(neu_pos_dist)"
   ]
  }
 ],
 "metadata": {
  "kernelspec": {
   "display_name": "Python 2",
   "language": "python",
   "name": "python2"
  },
  "language_info": {
   "codemirror_mode": {
    "name": "ipython",
    "version": 2
   },
   "file_extension": ".py",
   "mimetype": "text/x-python",
   "name": "python",
   "nbconvert_exporter": "python",
   "pygments_lexer": "ipython2",
   "version": "2.7.6"
  }
 },
 "nbformat": 4,
 "nbformat_minor": 0
}
